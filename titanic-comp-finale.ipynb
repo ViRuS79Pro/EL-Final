{
 "cells": [
  {
   "cell_type": "code",
   "execution_count": 1,
   "id": "8c155ea8",
   "metadata": {
    "_cell_guid": "b1076dfc-b9ad-4769-8c92-a6c4dae69d19",
    "_uuid": "8f2839f25d086af736a60e9eeb907d3b93b6e0e5",
    "execution": {
     "iopub.execute_input": "2024-12-05T08:49:07.348438Z",
     "iopub.status.busy": "2024-12-05T08:49:07.348056Z",
     "iopub.status.idle": "2024-12-05T08:49:08.319134Z",
     "shell.execute_reply": "2024-12-05T08:49:08.317944Z"
    },
    "papermill": {
     "duration": 0.98859,
     "end_time": "2024-12-05T08:49:08.321384",
     "exception": false,
     "start_time": "2024-12-05T08:49:07.332794",
     "status": "completed"
    },
    "tags": []
   },
   "outputs": [
    {
     "name": "stdout",
     "output_type": "stream",
     "text": [
      "/kaggle/input/titanic/train.csv\n",
      "/kaggle/input/titanic/test.csv\n",
      "/kaggle/input/titanic/gender_submission.csv\n"
     ]
    }
   ],
   "source": [
    "# This Python 3 environment comes with many helpful analytics libraries installed\n",
    "# It is defined by the kaggle/python Docker image: https://github.com/kaggle/docker-python\n",
    "# For example, here's several helpful packages to load\n",
    "\n",
    "import numpy as np # linear algebra\n",
    "import pandas as pd # data processing, CSV file I/O (e.g. pd.read_csv)\n",
    "\n",
    "# Input data files are available in the read-only \"../input/\" directory\n",
    "# For example, running this (by clicking run or pressing Shift+Enter) will list all files under the input directory\n",
    "\n",
    "import os\n",
    "for dirname, _, filenames in os.walk('/kaggle/input'):\n",
    "    for filename in filenames:\n",
    "        print(os.path.join(dirname, filename))\n",
    "\n",
    "# You can write up to 20GB to the current directory (/kaggle/working/) that gets preserved as output when you create a version using \"Save & Run All\" \n",
    "# You can also write temporary files to /kaggle/temp/, but they won't be saved outside of the current session"
   ]
  },
  {
   "cell_type": "code",
   "execution_count": 2,
   "id": "c0f38638",
   "metadata": {
    "execution": {
     "iopub.execute_input": "2024-12-05T08:49:08.350693Z",
     "iopub.status.busy": "2024-12-05T08:49:08.350216Z",
     "iopub.status.idle": "2024-12-05T08:49:08.355194Z",
     "shell.execute_reply": "2024-12-05T08:49:08.354040Z"
    },
    "papermill": {
     "duration": 0.022365,
     "end_time": "2024-12-05T08:49:08.357206",
     "exception": false,
     "start_time": "2024-12-05T08:49:08.334841",
     "status": "completed"
    },
    "tags": []
   },
   "outputs": [],
   "source": [
    "import pandas as pd\n",
    "import numpy as np"
   ]
  },
  {
   "cell_type": "code",
   "execution_count": 3,
   "id": "9127003f",
   "metadata": {
    "execution": {
     "iopub.execute_input": "2024-12-05T08:49:08.385398Z",
     "iopub.status.busy": "2024-12-05T08:49:08.385027Z",
     "iopub.status.idle": "2024-12-05T08:49:08.389699Z",
     "shell.execute_reply": "2024-12-05T08:49:08.388541Z"
    },
    "papermill": {
     "duration": 0.022558,
     "end_time": "2024-12-05T08:49:08.392999",
     "exception": false,
     "start_time": "2024-12-05T08:49:08.370441",
     "status": "completed"
    },
    "tags": []
   },
   "outputs": [],
   "source": [
    "#pd.set_option('display.max_rows', 500)"
   ]
  },
  {
   "cell_type": "code",
   "execution_count": 4,
   "id": "417534aa",
   "metadata": {
    "execution": {
     "iopub.execute_input": "2024-12-05T08:49:08.421271Z",
     "iopub.status.busy": "2024-12-05T08:49:08.420860Z",
     "iopub.status.idle": "2024-12-05T08:49:08.476803Z",
     "shell.execute_reply": "2024-12-05T08:49:08.475661Z"
    },
    "papermill": {
     "duration": 0.072635,
     "end_time": "2024-12-05T08:49:08.479143",
     "exception": false,
     "start_time": "2024-12-05T08:49:08.406508",
     "status": "completed"
    },
    "tags": []
   },
   "outputs": [
    {
     "data": {
      "text/html": [
       "<div>\n",
       "<style scoped>\n",
       "    .dataframe tbody tr th:only-of-type {\n",
       "        vertical-align: middle;\n",
       "    }\n",
       "\n",
       "    .dataframe tbody tr th {\n",
       "        vertical-align: top;\n",
       "    }\n",
       "\n",
       "    .dataframe thead th {\n",
       "        text-align: right;\n",
       "    }\n",
       "</style>\n",
       "<table border=\"1\" class=\"dataframe\">\n",
       "  <thead>\n",
       "    <tr style=\"text-align: right;\">\n",
       "      <th></th>\n",
       "      <th>PassengerId</th>\n",
       "      <th>Survived</th>\n",
       "      <th>Pclass</th>\n",
       "      <th>Name</th>\n",
       "      <th>Sex</th>\n",
       "      <th>Age</th>\n",
       "      <th>SibSp</th>\n",
       "      <th>Parch</th>\n",
       "      <th>Ticket</th>\n",
       "      <th>Fare</th>\n",
       "      <th>Cabin</th>\n",
       "      <th>Embarked</th>\n",
       "    </tr>\n",
       "  </thead>\n",
       "  <tbody>\n",
       "    <tr>\n",
       "      <th>0</th>\n",
       "      <td>1</td>\n",
       "      <td>0</td>\n",
       "      <td>3</td>\n",
       "      <td>Braund, Mr. Owen Harris</td>\n",
       "      <td>male</td>\n",
       "      <td>22.0</td>\n",
       "      <td>1</td>\n",
       "      <td>0</td>\n",
       "      <td>A/5 21171</td>\n",
       "      <td>7.2500</td>\n",
       "      <td>NaN</td>\n",
       "      <td>S</td>\n",
       "    </tr>\n",
       "    <tr>\n",
       "      <th>1</th>\n",
       "      <td>2</td>\n",
       "      <td>1</td>\n",
       "      <td>1</td>\n",
       "      <td>Cumings, Mrs. John Bradley (Florence Briggs Th...</td>\n",
       "      <td>female</td>\n",
       "      <td>38.0</td>\n",
       "      <td>1</td>\n",
       "      <td>0</td>\n",
       "      <td>PC 17599</td>\n",
       "      <td>71.2833</td>\n",
       "      <td>C85</td>\n",
       "      <td>C</td>\n",
       "    </tr>\n",
       "    <tr>\n",
       "      <th>2</th>\n",
       "      <td>3</td>\n",
       "      <td>1</td>\n",
       "      <td>3</td>\n",
       "      <td>Heikkinen, Miss. Laina</td>\n",
       "      <td>female</td>\n",
       "      <td>26.0</td>\n",
       "      <td>0</td>\n",
       "      <td>0</td>\n",
       "      <td>STON/O2. 3101282</td>\n",
       "      <td>7.9250</td>\n",
       "      <td>NaN</td>\n",
       "      <td>S</td>\n",
       "    </tr>\n",
       "    <tr>\n",
       "      <th>3</th>\n",
       "      <td>4</td>\n",
       "      <td>1</td>\n",
       "      <td>1</td>\n",
       "      <td>Futrelle, Mrs. Jacques Heath (Lily May Peel)</td>\n",
       "      <td>female</td>\n",
       "      <td>35.0</td>\n",
       "      <td>1</td>\n",
       "      <td>0</td>\n",
       "      <td>113803</td>\n",
       "      <td>53.1000</td>\n",
       "      <td>C123</td>\n",
       "      <td>S</td>\n",
       "    </tr>\n",
       "    <tr>\n",
       "      <th>4</th>\n",
       "      <td>5</td>\n",
       "      <td>0</td>\n",
       "      <td>3</td>\n",
       "      <td>Allen, Mr. William Henry</td>\n",
       "      <td>male</td>\n",
       "      <td>35.0</td>\n",
       "      <td>0</td>\n",
       "      <td>0</td>\n",
       "      <td>373450</td>\n",
       "      <td>8.0500</td>\n",
       "      <td>NaN</td>\n",
       "      <td>S</td>\n",
       "    </tr>\n",
       "  </tbody>\n",
       "</table>\n",
       "</div>"
      ],
      "text/plain": [
       "   PassengerId  Survived  Pclass  \\\n",
       "0            1         0       3   \n",
       "1            2         1       1   \n",
       "2            3         1       3   \n",
       "3            4         1       1   \n",
       "4            5         0       3   \n",
       "\n",
       "                                                Name     Sex   Age  SibSp  \\\n",
       "0                            Braund, Mr. Owen Harris    male  22.0      1   \n",
       "1  Cumings, Mrs. John Bradley (Florence Briggs Th...  female  38.0      1   \n",
       "2                             Heikkinen, Miss. Laina  female  26.0      0   \n",
       "3       Futrelle, Mrs. Jacques Heath (Lily May Peel)  female  35.0      1   \n",
       "4                           Allen, Mr. William Henry    male  35.0      0   \n",
       "\n",
       "   Parch            Ticket     Fare Cabin Embarked  \n",
       "0      0         A/5 21171   7.2500   NaN        S  \n",
       "1      0          PC 17599  71.2833   C85        C  \n",
       "2      0  STON/O2. 3101282   7.9250   NaN        S  \n",
       "3      0            113803  53.1000  C123        S  \n",
       "4      0            373450   8.0500   NaN        S  "
      ]
     },
     "execution_count": 4,
     "metadata": {},
     "output_type": "execute_result"
    }
   ],
   "source": [
    "df=pd.read_csv('/kaggle/input/titanic/train.csv')\n",
    "test_df=pd.read_csv('/kaggle/input/titanic/test.csv')\n",
    "demo=pd.read_csv('/kaggle/input/titanic/gender_submission.csv')\n",
    "passids=test_df['PassengerId']\n",
    "df.head()"
   ]
  },
  {
   "cell_type": "code",
   "execution_count": 5,
   "id": "0f124a59",
   "metadata": {
    "execution": {
     "iopub.execute_input": "2024-12-05T08:49:08.507696Z",
     "iopub.status.busy": "2024-12-05T08:49:08.507329Z",
     "iopub.status.idle": "2024-12-05T08:49:08.522094Z",
     "shell.execute_reply": "2024-12-05T08:49:08.521049Z"
    },
    "papermill": {
     "duration": 0.031458,
     "end_time": "2024-12-05T08:49:08.523973",
     "exception": false,
     "start_time": "2024-12-05T08:49:08.492515",
     "status": "completed"
    },
    "tags": []
   },
   "outputs": [
    {
     "data": {
      "text/html": [
       "<div>\n",
       "<style scoped>\n",
       "    .dataframe tbody tr th:only-of-type {\n",
       "        vertical-align: middle;\n",
       "    }\n",
       "\n",
       "    .dataframe tbody tr th {\n",
       "        vertical-align: top;\n",
       "    }\n",
       "\n",
       "    .dataframe thead th {\n",
       "        text-align: right;\n",
       "    }\n",
       "</style>\n",
       "<table border=\"1\" class=\"dataframe\">\n",
       "  <thead>\n",
       "    <tr style=\"text-align: right;\">\n",
       "      <th></th>\n",
       "      <th>PassengerId</th>\n",
       "      <th>Pclass</th>\n",
       "      <th>Name</th>\n",
       "      <th>Sex</th>\n",
       "      <th>Age</th>\n",
       "      <th>SibSp</th>\n",
       "      <th>Parch</th>\n",
       "      <th>Ticket</th>\n",
       "      <th>Fare</th>\n",
       "      <th>Cabin</th>\n",
       "      <th>Embarked</th>\n",
       "    </tr>\n",
       "  </thead>\n",
       "  <tbody>\n",
       "    <tr>\n",
       "      <th>0</th>\n",
       "      <td>892</td>\n",
       "      <td>3</td>\n",
       "      <td>Kelly, Mr. James</td>\n",
       "      <td>male</td>\n",
       "      <td>34.5</td>\n",
       "      <td>0</td>\n",
       "      <td>0</td>\n",
       "      <td>330911</td>\n",
       "      <td>7.8292</td>\n",
       "      <td>NaN</td>\n",
       "      <td>Q</td>\n",
       "    </tr>\n",
       "    <tr>\n",
       "      <th>1</th>\n",
       "      <td>893</td>\n",
       "      <td>3</td>\n",
       "      <td>Wilkes, Mrs. James (Ellen Needs)</td>\n",
       "      <td>female</td>\n",
       "      <td>47.0</td>\n",
       "      <td>1</td>\n",
       "      <td>0</td>\n",
       "      <td>363272</td>\n",
       "      <td>7.0000</td>\n",
       "      <td>NaN</td>\n",
       "      <td>S</td>\n",
       "    </tr>\n",
       "    <tr>\n",
       "      <th>2</th>\n",
       "      <td>894</td>\n",
       "      <td>2</td>\n",
       "      <td>Myles, Mr. Thomas Francis</td>\n",
       "      <td>male</td>\n",
       "      <td>62.0</td>\n",
       "      <td>0</td>\n",
       "      <td>0</td>\n",
       "      <td>240276</td>\n",
       "      <td>9.6875</td>\n",
       "      <td>NaN</td>\n",
       "      <td>Q</td>\n",
       "    </tr>\n",
       "    <tr>\n",
       "      <th>3</th>\n",
       "      <td>895</td>\n",
       "      <td>3</td>\n",
       "      <td>Wirz, Mr. Albert</td>\n",
       "      <td>male</td>\n",
       "      <td>27.0</td>\n",
       "      <td>0</td>\n",
       "      <td>0</td>\n",
       "      <td>315154</td>\n",
       "      <td>8.6625</td>\n",
       "      <td>NaN</td>\n",
       "      <td>S</td>\n",
       "    </tr>\n",
       "    <tr>\n",
       "      <th>4</th>\n",
       "      <td>896</td>\n",
       "      <td>3</td>\n",
       "      <td>Hirvonen, Mrs. Alexander (Helga E Lindqvist)</td>\n",
       "      <td>female</td>\n",
       "      <td>22.0</td>\n",
       "      <td>1</td>\n",
       "      <td>1</td>\n",
       "      <td>3101298</td>\n",
       "      <td>12.2875</td>\n",
       "      <td>NaN</td>\n",
       "      <td>S</td>\n",
       "    </tr>\n",
       "  </tbody>\n",
       "</table>\n",
       "</div>"
      ],
      "text/plain": [
       "   PassengerId  Pclass                                          Name     Sex  \\\n",
       "0          892       3                              Kelly, Mr. James    male   \n",
       "1          893       3              Wilkes, Mrs. James (Ellen Needs)  female   \n",
       "2          894       2                     Myles, Mr. Thomas Francis    male   \n",
       "3          895       3                              Wirz, Mr. Albert    male   \n",
       "4          896       3  Hirvonen, Mrs. Alexander (Helga E Lindqvist)  female   \n",
       "\n",
       "    Age  SibSp  Parch   Ticket     Fare Cabin Embarked  \n",
       "0  34.5      0      0   330911   7.8292   NaN        Q  \n",
       "1  47.0      1      0   363272   7.0000   NaN        S  \n",
       "2  62.0      0      0   240276   9.6875   NaN        Q  \n",
       "3  27.0      0      0   315154   8.6625   NaN        S  \n",
       "4  22.0      1      1  3101298  12.2875   NaN        S  "
      ]
     },
     "execution_count": 5,
     "metadata": {},
     "output_type": "execute_result"
    }
   ],
   "source": [
    "test_df.head()"
   ]
  },
  {
   "cell_type": "code",
   "execution_count": 6,
   "id": "00def9dc",
   "metadata": {
    "execution": {
     "iopub.execute_input": "2024-12-05T08:49:08.553321Z",
     "iopub.status.busy": "2024-12-05T08:49:08.552973Z",
     "iopub.status.idle": "2024-12-05T08:49:08.577814Z",
     "shell.execute_reply": "2024-12-05T08:49:08.576652Z"
    },
    "papermill": {
     "duration": 0.042643,
     "end_time": "2024-12-05T08:49:08.580178",
     "exception": false,
     "start_time": "2024-12-05T08:49:08.537535",
     "status": "completed"
    },
    "tags": []
   },
   "outputs": [
    {
     "name": "stdout",
     "output_type": "stream",
     "text": [
      "<class 'pandas.core.frame.DataFrame'>\n",
      "RangeIndex: 891 entries, 0 to 890\n",
      "Data columns (total 12 columns):\n",
      " #   Column       Non-Null Count  Dtype  \n",
      "---  ------       --------------  -----  \n",
      " 0   PassengerId  891 non-null    int64  \n",
      " 1   Survived     891 non-null    int64  \n",
      " 2   Pclass       891 non-null    int64  \n",
      " 3   Name         891 non-null    object \n",
      " 4   Sex          891 non-null    object \n",
      " 5   Age          714 non-null    float64\n",
      " 6   SibSp        891 non-null    int64  \n",
      " 7   Parch        891 non-null    int64  \n",
      " 8   Ticket       891 non-null    object \n",
      " 9   Fare         891 non-null    float64\n",
      " 10  Cabin        204 non-null    object \n",
      " 11  Embarked     889 non-null    object \n",
      "dtypes: float64(2), int64(5), object(5)\n",
      "memory usage: 83.7+ KB\n"
     ]
    }
   ],
   "source": [
    "df.info()"
   ]
  },
  {
   "cell_type": "code",
   "execution_count": 7,
   "id": "c585b88b",
   "metadata": {
    "execution": {
     "iopub.execute_input": "2024-12-05T08:49:08.609720Z",
     "iopub.status.busy": "2024-12-05T08:49:08.609347Z",
     "iopub.status.idle": "2024-12-05T08:49:08.617892Z",
     "shell.execute_reply": "2024-12-05T08:49:08.616843Z"
    },
    "papermill": {
     "duration": 0.025971,
     "end_time": "2024-12-05T08:49:08.619991",
     "exception": false,
     "start_time": "2024-12-05T08:49:08.594020",
     "status": "completed"
    },
    "tags": []
   },
   "outputs": [
    {
     "data": {
      "text/plain": [
       "PassengerId      0\n",
       "Pclass           0\n",
       "Name             0\n",
       "Sex              0\n",
       "Age             86\n",
       "SibSp            0\n",
       "Parch            0\n",
       "Ticket           0\n",
       "Fare             1\n",
       "Cabin          327\n",
       "Embarked         0\n",
       "dtype: int64"
      ]
     },
     "execution_count": 7,
     "metadata": {},
     "output_type": "execute_result"
    }
   ],
   "source": [
    "test_df.isnull().sum()"
   ]
  },
  {
   "cell_type": "code",
   "execution_count": 8,
   "id": "29b752aa",
   "metadata": {
    "execution": {
     "iopub.execute_input": "2024-12-05T08:49:08.649925Z",
     "iopub.status.busy": "2024-12-05T08:49:08.648740Z",
     "iopub.status.idle": "2024-12-05T08:49:08.658833Z",
     "shell.execute_reply": "2024-12-05T08:49:08.657640Z"
    },
    "papermill": {
     "duration": 0.027245,
     "end_time": "2024-12-05T08:49:08.661013",
     "exception": false,
     "start_time": "2024-12-05T08:49:08.633768",
     "status": "completed"
    },
    "tags": []
   },
   "outputs": [
    {
     "data": {
      "text/html": [
       "<div>\n",
       "<style scoped>\n",
       "    .dataframe tbody tr th:only-of-type {\n",
       "        vertical-align: middle;\n",
       "    }\n",
       "\n",
       "    .dataframe tbody tr th {\n",
       "        vertical-align: top;\n",
       "    }\n",
       "\n",
       "    .dataframe thead th {\n",
       "        text-align: right;\n",
       "    }\n",
       "</style>\n",
       "<table border=\"1\" class=\"dataframe\">\n",
       "  <thead>\n",
       "    <tr style=\"text-align: right;\">\n",
       "      <th></th>\n",
       "      <th>PassengerId</th>\n",
       "      <th>Survived</th>\n",
       "    </tr>\n",
       "  </thead>\n",
       "  <tbody>\n",
       "    <tr>\n",
       "      <th>0</th>\n",
       "      <td>892</td>\n",
       "      <td>0</td>\n",
       "    </tr>\n",
       "    <tr>\n",
       "      <th>1</th>\n",
       "      <td>893</td>\n",
       "      <td>1</td>\n",
       "    </tr>\n",
       "    <tr>\n",
       "      <th>2</th>\n",
       "      <td>894</td>\n",
       "      <td>0</td>\n",
       "    </tr>\n",
       "    <tr>\n",
       "      <th>3</th>\n",
       "      <td>895</td>\n",
       "      <td>0</td>\n",
       "    </tr>\n",
       "    <tr>\n",
       "      <th>4</th>\n",
       "      <td>896</td>\n",
       "      <td>1</td>\n",
       "    </tr>\n",
       "  </tbody>\n",
       "</table>\n",
       "</div>"
      ],
      "text/plain": [
       "   PassengerId  Survived\n",
       "0          892         0\n",
       "1          893         1\n",
       "2          894         0\n",
       "3          895         0\n",
       "4          896         1"
      ]
     },
     "execution_count": 8,
     "metadata": {},
     "output_type": "execute_result"
    }
   ],
   "source": [
    "demo.head()"
   ]
  },
  {
   "cell_type": "code",
   "execution_count": 9,
   "id": "9c35f685",
   "metadata": {
    "execution": {
     "iopub.execute_input": "2024-12-05T08:49:08.691499Z",
     "iopub.status.busy": "2024-12-05T08:49:08.690891Z",
     "iopub.status.idle": "2024-12-05T08:49:08.700069Z",
     "shell.execute_reply": "2024-12-05T08:49:08.698751Z"
    },
    "papermill": {
     "duration": 0.027286,
     "end_time": "2024-12-05T08:49:08.702397",
     "exception": false,
     "start_time": "2024-12-05T08:49:08.675111",
     "status": "completed"
    },
    "tags": []
   },
   "outputs": [],
   "source": [
    "X=df.iloc[:,2:12]\n",
    "y=df.Survived"
   ]
  },
  {
   "cell_type": "code",
   "execution_count": 10,
   "id": "99183f2f",
   "metadata": {
    "execution": {
     "iopub.execute_input": "2024-12-05T08:49:08.731595Z",
     "iopub.status.busy": "2024-12-05T08:49:08.731228Z",
     "iopub.status.idle": "2024-12-05T08:49:08.739223Z",
     "shell.execute_reply": "2024-12-05T08:49:08.737938Z"
    },
    "papermill": {
     "duration": 0.025108,
     "end_time": "2024-12-05T08:49:08.741554",
     "exception": false,
     "start_time": "2024-12-05T08:49:08.716446",
     "status": "completed"
    },
    "tags": []
   },
   "outputs": [],
   "source": [
    "X['Cabin']=X['Cabin'].replace(np.nan, 'No_Cabin')\n",
    "test_df['Cabin']=test_df['Cabin'].replace(np.nan, 'No_Cabin')"
   ]
  },
  {
   "cell_type": "code",
   "execution_count": 11,
   "id": "dff9c323",
   "metadata": {
    "execution": {
     "iopub.execute_input": "2024-12-05T08:49:08.771779Z",
     "iopub.status.busy": "2024-12-05T08:49:08.770766Z",
     "iopub.status.idle": "2024-12-05T08:49:08.789551Z",
     "shell.execute_reply": "2024-12-05T08:49:08.788505Z"
    },
    "papermill": {
     "duration": 0.036297,
     "end_time": "2024-12-05T08:49:08.791810",
     "exception": false,
     "start_time": "2024-12-05T08:49:08.755513",
     "status": "completed"
    },
    "tags": []
   },
   "outputs": [
    {
     "data": {
      "text/html": [
       "<div>\n",
       "<style scoped>\n",
       "    .dataframe tbody tr th:only-of-type {\n",
       "        vertical-align: middle;\n",
       "    }\n",
       "\n",
       "    .dataframe tbody tr th {\n",
       "        vertical-align: top;\n",
       "    }\n",
       "\n",
       "    .dataframe thead th {\n",
       "        text-align: right;\n",
       "    }\n",
       "</style>\n",
       "<table border=\"1\" class=\"dataframe\">\n",
       "  <thead>\n",
       "    <tr style=\"text-align: right;\">\n",
       "      <th></th>\n",
       "      <th>PassengerId</th>\n",
       "      <th>Pclass</th>\n",
       "      <th>Name</th>\n",
       "      <th>Sex</th>\n",
       "      <th>Age</th>\n",
       "      <th>SibSp</th>\n",
       "      <th>Parch</th>\n",
       "      <th>Ticket</th>\n",
       "      <th>Fare</th>\n",
       "      <th>Cabin</th>\n",
       "      <th>Embarked</th>\n",
       "    </tr>\n",
       "  </thead>\n",
       "  <tbody>\n",
       "    <tr>\n",
       "      <th>214</th>\n",
       "      <td>1106</td>\n",
       "      <td>3</td>\n",
       "      <td>Andersson, Miss. Ida Augusta Margareta</td>\n",
       "      <td>female</td>\n",
       "      <td>38.0</td>\n",
       "      <td>4</td>\n",
       "      <td>2</td>\n",
       "      <td>347091</td>\n",
       "      <td>7.7750</td>\n",
       "      <td>No_Cabin</td>\n",
       "      <td>S</td>\n",
       "    </tr>\n",
       "    <tr>\n",
       "      <th>15</th>\n",
       "      <td>907</td>\n",
       "      <td>2</td>\n",
       "      <td>del Carlo, Mrs. Sebastiano (Argenia Genovesi)</td>\n",
       "      <td>female</td>\n",
       "      <td>24.0</td>\n",
       "      <td>1</td>\n",
       "      <td>0</td>\n",
       "      <td>SC/PARIS 2167</td>\n",
       "      <td>27.7208</td>\n",
       "      <td>No_Cabin</td>\n",
       "      <td>C</td>\n",
       "    </tr>\n",
       "    <tr>\n",
       "      <th>216</th>\n",
       "      <td>1108</td>\n",
       "      <td>3</td>\n",
       "      <td>Mahon, Miss. Bridget Delia</td>\n",
       "      <td>female</td>\n",
       "      <td>NaN</td>\n",
       "      <td>0</td>\n",
       "      <td>0</td>\n",
       "      <td>330924</td>\n",
       "      <td>7.8792</td>\n",
       "      <td>No_Cabin</td>\n",
       "      <td>Q</td>\n",
       "    </tr>\n",
       "    <tr>\n",
       "      <th>311</th>\n",
       "      <td>1203</td>\n",
       "      <td>3</td>\n",
       "      <td>Vartanian, Mr. David</td>\n",
       "      <td>male</td>\n",
       "      <td>22.0</td>\n",
       "      <td>0</td>\n",
       "      <td>0</td>\n",
       "      <td>2658</td>\n",
       "      <td>7.2250</td>\n",
       "      <td>No_Cabin</td>\n",
       "      <td>C</td>\n",
       "    </tr>\n",
       "    <tr>\n",
       "      <th>70</th>\n",
       "      <td>962</td>\n",
       "      <td>3</td>\n",
       "      <td>Mulvihill, Miss. Bertha E</td>\n",
       "      <td>female</td>\n",
       "      <td>24.0</td>\n",
       "      <td>0</td>\n",
       "      <td>0</td>\n",
       "      <td>382653</td>\n",
       "      <td>7.7500</td>\n",
       "      <td>No_Cabin</td>\n",
       "      <td>Q</td>\n",
       "    </tr>\n",
       "  </tbody>\n",
       "</table>\n",
       "</div>"
      ],
      "text/plain": [
       "     PassengerId  Pclass                                           Name  \\\n",
       "214         1106       3         Andersson, Miss. Ida Augusta Margareta   \n",
       "15           907       2  del Carlo, Mrs. Sebastiano (Argenia Genovesi)   \n",
       "216         1108       3                     Mahon, Miss. Bridget Delia   \n",
       "311         1203       3                           Vartanian, Mr. David   \n",
       "70           962       3                      Mulvihill, Miss. Bertha E   \n",
       "\n",
       "        Sex   Age  SibSp  Parch         Ticket     Fare     Cabin Embarked  \n",
       "214  female  38.0      4      2         347091   7.7750  No_Cabin        S  \n",
       "15   female  24.0      1      0  SC/PARIS 2167  27.7208  No_Cabin        C  \n",
       "216  female   NaN      0      0         330924   7.8792  No_Cabin        Q  \n",
       "311    male  22.0      0      0           2658   7.2250  No_Cabin        C  \n",
       "70   female  24.0      0      0         382653   7.7500  No_Cabin        Q  "
      ]
     },
     "execution_count": 11,
     "metadata": {},
     "output_type": "execute_result"
    }
   ],
   "source": [
    "test_df.sample(5)"
   ]
  },
  {
   "cell_type": "code",
   "execution_count": 12,
   "id": "6124bd56",
   "metadata": {
    "execution": {
     "iopub.execute_input": "2024-12-05T08:49:08.822350Z",
     "iopub.status.busy": "2024-12-05T08:49:08.821982Z",
     "iopub.status.idle": "2024-12-05T08:49:08.829492Z",
     "shell.execute_reply": "2024-12-05T08:49:08.828417Z"
    },
    "papermill": {
     "duration": 0.025592,
     "end_time": "2024-12-05T08:49:08.831865",
     "exception": false,
     "start_time": "2024-12-05T08:49:08.806273",
     "status": "completed"
    },
    "tags": []
   },
   "outputs": [],
   "source": [
    "X.drop(columns=['Ticket'], inplace=True)\n",
    "test_df.drop(columns=['Ticket', 'PassengerId'], inplace=True)"
   ]
  },
  {
   "cell_type": "code",
   "execution_count": 13,
   "id": "399a4090",
   "metadata": {
    "execution": {
     "iopub.execute_input": "2024-12-05T08:49:08.863220Z",
     "iopub.status.busy": "2024-12-05T08:49:08.861774Z",
     "iopub.status.idle": "2024-12-05T08:49:08.877237Z",
     "shell.execute_reply": "2024-12-05T08:49:08.875852Z"
    },
    "papermill": {
     "duration": 0.033426,
     "end_time": "2024-12-05T08:49:08.879785",
     "exception": false,
     "start_time": "2024-12-05T08:49:08.846359",
     "status": "completed"
    },
    "tags": []
   },
   "outputs": [
    {
     "data": {
      "text/html": [
       "<div>\n",
       "<style scoped>\n",
       "    .dataframe tbody tr th:only-of-type {\n",
       "        vertical-align: middle;\n",
       "    }\n",
       "\n",
       "    .dataframe tbody tr th {\n",
       "        vertical-align: top;\n",
       "    }\n",
       "\n",
       "    .dataframe thead th {\n",
       "        text-align: right;\n",
       "    }\n",
       "</style>\n",
       "<table border=\"1\" class=\"dataframe\">\n",
       "  <thead>\n",
       "    <tr style=\"text-align: right;\">\n",
       "      <th></th>\n",
       "      <th>Pclass</th>\n",
       "      <th>Name</th>\n",
       "      <th>Sex</th>\n",
       "      <th>Age</th>\n",
       "      <th>SibSp</th>\n",
       "      <th>Parch</th>\n",
       "      <th>Fare</th>\n",
       "      <th>Cabin</th>\n",
       "      <th>Embarked</th>\n",
       "    </tr>\n",
       "  </thead>\n",
       "  <tbody>\n",
       "    <tr>\n",
       "      <th>0</th>\n",
       "      <td>3</td>\n",
       "      <td>Braund, Mr. Owen Harris</td>\n",
       "      <td>male</td>\n",
       "      <td>22.0</td>\n",
       "      <td>1</td>\n",
       "      <td>0</td>\n",
       "      <td>7.2500</td>\n",
       "      <td>No_Cabin</td>\n",
       "      <td>S</td>\n",
       "    </tr>\n",
       "    <tr>\n",
       "      <th>1</th>\n",
       "      <td>1</td>\n",
       "      <td>Cumings, Mrs. John Bradley (Florence Briggs Th...</td>\n",
       "      <td>female</td>\n",
       "      <td>38.0</td>\n",
       "      <td>1</td>\n",
       "      <td>0</td>\n",
       "      <td>71.2833</td>\n",
       "      <td>C85</td>\n",
       "      <td>C</td>\n",
       "    </tr>\n",
       "    <tr>\n",
       "      <th>2</th>\n",
       "      <td>3</td>\n",
       "      <td>Heikkinen, Miss. Laina</td>\n",
       "      <td>female</td>\n",
       "      <td>26.0</td>\n",
       "      <td>0</td>\n",
       "      <td>0</td>\n",
       "      <td>7.9250</td>\n",
       "      <td>No_Cabin</td>\n",
       "      <td>S</td>\n",
       "    </tr>\n",
       "    <tr>\n",
       "      <th>3</th>\n",
       "      <td>1</td>\n",
       "      <td>Futrelle, Mrs. Jacques Heath (Lily May Peel)</td>\n",
       "      <td>female</td>\n",
       "      <td>35.0</td>\n",
       "      <td>1</td>\n",
       "      <td>0</td>\n",
       "      <td>53.1000</td>\n",
       "      <td>C123</td>\n",
       "      <td>S</td>\n",
       "    </tr>\n",
       "    <tr>\n",
       "      <th>4</th>\n",
       "      <td>3</td>\n",
       "      <td>Allen, Mr. William Henry</td>\n",
       "      <td>male</td>\n",
       "      <td>35.0</td>\n",
       "      <td>0</td>\n",
       "      <td>0</td>\n",
       "      <td>8.0500</td>\n",
       "      <td>No_Cabin</td>\n",
       "      <td>S</td>\n",
       "    </tr>\n",
       "  </tbody>\n",
       "</table>\n",
       "</div>"
      ],
      "text/plain": [
       "   Pclass                                               Name     Sex   Age  \\\n",
       "0       3                            Braund, Mr. Owen Harris    male  22.0   \n",
       "1       1  Cumings, Mrs. John Bradley (Florence Briggs Th...  female  38.0   \n",
       "2       3                             Heikkinen, Miss. Laina  female  26.0   \n",
       "3       1       Futrelle, Mrs. Jacques Heath (Lily May Peel)  female  35.0   \n",
       "4       3                           Allen, Mr. William Henry    male  35.0   \n",
       "\n",
       "   SibSp  Parch     Fare     Cabin Embarked  \n",
       "0      1      0   7.2500  No_Cabin        S  \n",
       "1      1      0  71.2833       C85        C  \n",
       "2      0      0   7.9250  No_Cabin        S  \n",
       "3      1      0  53.1000      C123        S  \n",
       "4      0      0   8.0500  No_Cabin        S  "
      ]
     },
     "execution_count": 13,
     "metadata": {},
     "output_type": "execute_result"
    }
   ],
   "source": [
    "#pclass=pd.get_dummies(X['Pclass'].replace(2, 'Pclass_2').replace(3, 'Pclass_3'), drop_first=True, dtype=int)\n",
    "#X=pd.concat([X, pclass], axis=1)\n",
    "\n",
    "X.head()"
   ]
  },
  {
   "cell_type": "code",
   "execution_count": 14,
   "id": "4eacf15e",
   "metadata": {
    "execution": {
     "iopub.execute_input": "2024-12-05T08:49:08.909838Z",
     "iopub.status.busy": "2024-12-05T08:49:08.909507Z",
     "iopub.status.idle": "2024-12-05T08:49:08.922730Z",
     "shell.execute_reply": "2024-12-05T08:49:08.921659Z"
    },
    "papermill": {
     "duration": 0.030509,
     "end_time": "2024-12-05T08:49:08.924701",
     "exception": false,
     "start_time": "2024-12-05T08:49:08.894192",
     "status": "completed"
    },
    "tags": []
   },
   "outputs": [
    {
     "data": {
      "text/html": [
       "<div>\n",
       "<style scoped>\n",
       "    .dataframe tbody tr th:only-of-type {\n",
       "        vertical-align: middle;\n",
       "    }\n",
       "\n",
       "    .dataframe tbody tr th {\n",
       "        vertical-align: top;\n",
       "    }\n",
       "\n",
       "    .dataframe thead th {\n",
       "        text-align: right;\n",
       "    }\n",
       "</style>\n",
       "<table border=\"1\" class=\"dataframe\">\n",
       "  <thead>\n",
       "    <tr style=\"text-align: right;\">\n",
       "      <th></th>\n",
       "      <th>Pclass</th>\n",
       "      <th>Name</th>\n",
       "      <th>Sex</th>\n",
       "      <th>Age</th>\n",
       "      <th>SibSp</th>\n",
       "      <th>Parch</th>\n",
       "      <th>Fare</th>\n",
       "      <th>Cabin</th>\n",
       "      <th>Embarked</th>\n",
       "    </tr>\n",
       "  </thead>\n",
       "  <tbody>\n",
       "    <tr>\n",
       "      <th>0</th>\n",
       "      <td>3</td>\n",
       "      <td>Kelly, Mr. James</td>\n",
       "      <td>male</td>\n",
       "      <td>34.5</td>\n",
       "      <td>0</td>\n",
       "      <td>0</td>\n",
       "      <td>7.8292</td>\n",
       "      <td>No_Cabin</td>\n",
       "      <td>Q</td>\n",
       "    </tr>\n",
       "    <tr>\n",
       "      <th>1</th>\n",
       "      <td>3</td>\n",
       "      <td>Wilkes, Mrs. James (Ellen Needs)</td>\n",
       "      <td>female</td>\n",
       "      <td>47.0</td>\n",
       "      <td>1</td>\n",
       "      <td>0</td>\n",
       "      <td>7.0000</td>\n",
       "      <td>No_Cabin</td>\n",
       "      <td>S</td>\n",
       "    </tr>\n",
       "    <tr>\n",
       "      <th>2</th>\n",
       "      <td>2</td>\n",
       "      <td>Myles, Mr. Thomas Francis</td>\n",
       "      <td>male</td>\n",
       "      <td>62.0</td>\n",
       "      <td>0</td>\n",
       "      <td>0</td>\n",
       "      <td>9.6875</td>\n",
       "      <td>No_Cabin</td>\n",
       "      <td>Q</td>\n",
       "    </tr>\n",
       "    <tr>\n",
       "      <th>3</th>\n",
       "      <td>3</td>\n",
       "      <td>Wirz, Mr. Albert</td>\n",
       "      <td>male</td>\n",
       "      <td>27.0</td>\n",
       "      <td>0</td>\n",
       "      <td>0</td>\n",
       "      <td>8.6625</td>\n",
       "      <td>No_Cabin</td>\n",
       "      <td>S</td>\n",
       "    </tr>\n",
       "    <tr>\n",
       "      <th>4</th>\n",
       "      <td>3</td>\n",
       "      <td>Hirvonen, Mrs. Alexander (Helga E Lindqvist)</td>\n",
       "      <td>female</td>\n",
       "      <td>22.0</td>\n",
       "      <td>1</td>\n",
       "      <td>1</td>\n",
       "      <td>12.2875</td>\n",
       "      <td>No_Cabin</td>\n",
       "      <td>S</td>\n",
       "    </tr>\n",
       "  </tbody>\n",
       "</table>\n",
       "</div>"
      ],
      "text/plain": [
       "   Pclass                                          Name     Sex   Age  SibSp  \\\n",
       "0       3                              Kelly, Mr. James    male  34.5      0   \n",
       "1       3              Wilkes, Mrs. James (Ellen Needs)  female  47.0      1   \n",
       "2       2                     Myles, Mr. Thomas Francis    male  62.0      0   \n",
       "3       3                              Wirz, Mr. Albert    male  27.0      0   \n",
       "4       3  Hirvonen, Mrs. Alexander (Helga E Lindqvist)  female  22.0      1   \n",
       "\n",
       "   Parch     Fare     Cabin Embarked  \n",
       "0      0   7.8292  No_Cabin        Q  \n",
       "1      0   7.0000  No_Cabin        S  \n",
       "2      0   9.6875  No_Cabin        Q  \n",
       "3      0   8.6625  No_Cabin        S  \n",
       "4      1  12.2875  No_Cabin        S  "
      ]
     },
     "execution_count": 14,
     "metadata": {},
     "output_type": "execute_result"
    }
   ],
   "source": [
    "#pclass2=pd.get_dummies(test_df['Pclass'].replace(2, 'Pclass_2').replace(3, 'Pclass_3'), drop_first=True, dtype=int)\n",
    "#test_df=pd.concat([test_df, pclass2], axis=1)\n",
    "\n",
    "test_df.head()"
   ]
  },
  {
   "cell_type": "code",
   "execution_count": 15,
   "id": "2a73bc31",
   "metadata": {
    "execution": {
     "iopub.execute_input": "2024-12-05T08:49:08.955545Z",
     "iopub.status.busy": "2024-12-05T08:49:08.954554Z",
     "iopub.status.idle": "2024-12-05T08:49:08.960817Z",
     "shell.execute_reply": "2024-12-05T08:49:08.959687Z"
    },
    "papermill": {
     "duration": 0.024289,
     "end_time": "2024-12-05T08:49:08.963333",
     "exception": false,
     "start_time": "2024-12-05T08:49:08.939044",
     "status": "completed"
    },
    "tags": []
   },
   "outputs": [],
   "source": [
    "def transform(X):\n",
    "    emb=pd.get_dummies(X['Embarked'].replace('Q', 'Q_emb').replace('S', 'S_emb').replace('C', 'C_emb'), dtype=int, drop_first=True)\n",
    "    sex=pd.get_dummies(X['Sex'], dtype=int, drop_first=True)\n",
    "    temp=pd.concat([emb,sex],axis=1)\n",
    "    X=pd.concat([X,temp], axis=1)\n",
    "    X.drop(columns=['Sex', 'Embarked'], inplace=True)\n",
    "    return X"
   ]
  },
  {
   "cell_type": "code",
   "execution_count": 16,
   "id": "6b470d50",
   "metadata": {
    "execution": {
     "iopub.execute_input": "2024-12-05T08:49:08.994158Z",
     "iopub.status.busy": "2024-12-05T08:49:08.993772Z",
     "iopub.status.idle": "2024-12-05T08:49:09.008963Z",
     "shell.execute_reply": "2024-12-05T08:49:09.007384Z"
    },
    "papermill": {
     "duration": 0.034001,
     "end_time": "2024-12-05T08:49:09.011782",
     "exception": false,
     "start_time": "2024-12-05T08:49:08.977781",
     "status": "completed"
    },
    "tags": []
   },
   "outputs": [],
   "source": [
    "X=transform(X)\n",
    "test_df=transform(test_df)"
   ]
  },
  {
   "cell_type": "code",
   "execution_count": 17,
   "id": "55ba3ace",
   "metadata": {
    "execution": {
     "iopub.execute_input": "2024-12-05T08:49:09.042654Z",
     "iopub.status.busy": "2024-12-05T08:49:09.042325Z",
     "iopub.status.idle": "2024-12-05T08:49:09.058790Z",
     "shell.execute_reply": "2024-12-05T08:49:09.057655Z"
    },
    "papermill": {
     "duration": 0.034198,
     "end_time": "2024-12-05T08:49:09.060908",
     "exception": false,
     "start_time": "2024-12-05T08:49:09.026710",
     "status": "completed"
    },
    "tags": []
   },
   "outputs": [
    {
     "data": {
      "text/html": [
       "<div>\n",
       "<style scoped>\n",
       "    .dataframe tbody tr th:only-of-type {\n",
       "        vertical-align: middle;\n",
       "    }\n",
       "\n",
       "    .dataframe tbody tr th {\n",
       "        vertical-align: top;\n",
       "    }\n",
       "\n",
       "    .dataframe thead th {\n",
       "        text-align: right;\n",
       "    }\n",
       "</style>\n",
       "<table border=\"1\" class=\"dataframe\">\n",
       "  <thead>\n",
       "    <tr style=\"text-align: right;\">\n",
       "      <th></th>\n",
       "      <th>Pclass</th>\n",
       "      <th>Name</th>\n",
       "      <th>Age</th>\n",
       "      <th>SibSp</th>\n",
       "      <th>Parch</th>\n",
       "      <th>Fare</th>\n",
       "      <th>Cabin</th>\n",
       "      <th>Q_emb</th>\n",
       "      <th>S_emb</th>\n",
       "      <th>male</th>\n",
       "    </tr>\n",
       "  </thead>\n",
       "  <tbody>\n",
       "    <tr>\n",
       "      <th>0</th>\n",
       "      <td>3</td>\n",
       "      <td>Braund, Mr. Owen Harris</td>\n",
       "      <td>22.0</td>\n",
       "      <td>1</td>\n",
       "      <td>0</td>\n",
       "      <td>7.2500</td>\n",
       "      <td>No_Cabin</td>\n",
       "      <td>0</td>\n",
       "      <td>1</td>\n",
       "      <td>1</td>\n",
       "    </tr>\n",
       "    <tr>\n",
       "      <th>1</th>\n",
       "      <td>1</td>\n",
       "      <td>Cumings, Mrs. John Bradley (Florence Briggs Th...</td>\n",
       "      <td>38.0</td>\n",
       "      <td>1</td>\n",
       "      <td>0</td>\n",
       "      <td>71.2833</td>\n",
       "      <td>C85</td>\n",
       "      <td>0</td>\n",
       "      <td>0</td>\n",
       "      <td>0</td>\n",
       "    </tr>\n",
       "    <tr>\n",
       "      <th>2</th>\n",
       "      <td>3</td>\n",
       "      <td>Heikkinen, Miss. Laina</td>\n",
       "      <td>26.0</td>\n",
       "      <td>0</td>\n",
       "      <td>0</td>\n",
       "      <td>7.9250</td>\n",
       "      <td>No_Cabin</td>\n",
       "      <td>0</td>\n",
       "      <td>1</td>\n",
       "      <td>0</td>\n",
       "    </tr>\n",
       "    <tr>\n",
       "      <th>3</th>\n",
       "      <td>1</td>\n",
       "      <td>Futrelle, Mrs. Jacques Heath (Lily May Peel)</td>\n",
       "      <td>35.0</td>\n",
       "      <td>1</td>\n",
       "      <td>0</td>\n",
       "      <td>53.1000</td>\n",
       "      <td>C123</td>\n",
       "      <td>0</td>\n",
       "      <td>1</td>\n",
       "      <td>0</td>\n",
       "    </tr>\n",
       "    <tr>\n",
       "      <th>4</th>\n",
       "      <td>3</td>\n",
       "      <td>Allen, Mr. William Henry</td>\n",
       "      <td>35.0</td>\n",
       "      <td>0</td>\n",
       "      <td>0</td>\n",
       "      <td>8.0500</td>\n",
       "      <td>No_Cabin</td>\n",
       "      <td>0</td>\n",
       "      <td>1</td>\n",
       "      <td>1</td>\n",
       "    </tr>\n",
       "    <tr>\n",
       "      <th>...</th>\n",
       "      <td>...</td>\n",
       "      <td>...</td>\n",
       "      <td>...</td>\n",
       "      <td>...</td>\n",
       "      <td>...</td>\n",
       "      <td>...</td>\n",
       "      <td>...</td>\n",
       "      <td>...</td>\n",
       "      <td>...</td>\n",
       "      <td>...</td>\n",
       "    </tr>\n",
       "    <tr>\n",
       "      <th>886</th>\n",
       "      <td>2</td>\n",
       "      <td>Montvila, Rev. Juozas</td>\n",
       "      <td>27.0</td>\n",
       "      <td>0</td>\n",
       "      <td>0</td>\n",
       "      <td>13.0000</td>\n",
       "      <td>No_Cabin</td>\n",
       "      <td>0</td>\n",
       "      <td>1</td>\n",
       "      <td>1</td>\n",
       "    </tr>\n",
       "    <tr>\n",
       "      <th>887</th>\n",
       "      <td>1</td>\n",
       "      <td>Graham, Miss. Margaret Edith</td>\n",
       "      <td>19.0</td>\n",
       "      <td>0</td>\n",
       "      <td>0</td>\n",
       "      <td>30.0000</td>\n",
       "      <td>B42</td>\n",
       "      <td>0</td>\n",
       "      <td>1</td>\n",
       "      <td>0</td>\n",
       "    </tr>\n",
       "    <tr>\n",
       "      <th>888</th>\n",
       "      <td>3</td>\n",
       "      <td>Johnston, Miss. Catherine Helen \"Carrie\"</td>\n",
       "      <td>NaN</td>\n",
       "      <td>1</td>\n",
       "      <td>2</td>\n",
       "      <td>23.4500</td>\n",
       "      <td>No_Cabin</td>\n",
       "      <td>0</td>\n",
       "      <td>1</td>\n",
       "      <td>0</td>\n",
       "    </tr>\n",
       "    <tr>\n",
       "      <th>889</th>\n",
       "      <td>1</td>\n",
       "      <td>Behr, Mr. Karl Howell</td>\n",
       "      <td>26.0</td>\n",
       "      <td>0</td>\n",
       "      <td>0</td>\n",
       "      <td>30.0000</td>\n",
       "      <td>C148</td>\n",
       "      <td>0</td>\n",
       "      <td>0</td>\n",
       "      <td>1</td>\n",
       "    </tr>\n",
       "    <tr>\n",
       "      <th>890</th>\n",
       "      <td>3</td>\n",
       "      <td>Dooley, Mr. Patrick</td>\n",
       "      <td>32.0</td>\n",
       "      <td>0</td>\n",
       "      <td>0</td>\n",
       "      <td>7.7500</td>\n",
       "      <td>No_Cabin</td>\n",
       "      <td>1</td>\n",
       "      <td>0</td>\n",
       "      <td>1</td>\n",
       "    </tr>\n",
       "  </tbody>\n",
       "</table>\n",
       "<p>891 rows × 10 columns</p>\n",
       "</div>"
      ],
      "text/plain": [
       "     Pclass                                               Name   Age  SibSp  \\\n",
       "0         3                            Braund, Mr. Owen Harris  22.0      1   \n",
       "1         1  Cumings, Mrs. John Bradley (Florence Briggs Th...  38.0      1   \n",
       "2         3                             Heikkinen, Miss. Laina  26.0      0   \n",
       "3         1       Futrelle, Mrs. Jacques Heath (Lily May Peel)  35.0      1   \n",
       "4         3                           Allen, Mr. William Henry  35.0      0   \n",
       "..      ...                                                ...   ...    ...   \n",
       "886       2                              Montvila, Rev. Juozas  27.0      0   \n",
       "887       1                       Graham, Miss. Margaret Edith  19.0      0   \n",
       "888       3           Johnston, Miss. Catherine Helen \"Carrie\"   NaN      1   \n",
       "889       1                              Behr, Mr. Karl Howell  26.0      0   \n",
       "890       3                                Dooley, Mr. Patrick  32.0      0   \n",
       "\n",
       "     Parch     Fare     Cabin  Q_emb  S_emb  male  \n",
       "0        0   7.2500  No_Cabin      0      1     1  \n",
       "1        0  71.2833       C85      0      0     0  \n",
       "2        0   7.9250  No_Cabin      0      1     0  \n",
       "3        0  53.1000      C123      0      1     0  \n",
       "4        0   8.0500  No_Cabin      0      1     1  \n",
       "..     ...      ...       ...    ...    ...   ...  \n",
       "886      0  13.0000  No_Cabin      0      1     1  \n",
       "887      0  30.0000       B42      0      1     0  \n",
       "888      2  23.4500  No_Cabin      0      1     0  \n",
       "889      0  30.0000      C148      0      0     1  \n",
       "890      0   7.7500  No_Cabin      1      0     1  \n",
       "\n",
       "[891 rows x 10 columns]"
      ]
     },
     "execution_count": 17,
     "metadata": {},
     "output_type": "execute_result"
    }
   ],
   "source": [
    "X_copy=X.copy()\n",
    "X_copy"
   ]
  },
  {
   "cell_type": "code",
   "execution_count": 18,
   "id": "6b867820",
   "metadata": {
    "execution": {
     "iopub.execute_input": "2024-12-05T08:49:09.092346Z",
     "iopub.status.busy": "2024-12-05T08:49:09.092017Z",
     "iopub.status.idle": "2024-12-05T08:49:09.099303Z",
     "shell.execute_reply": "2024-12-05T08:49:09.098121Z"
    },
    "papermill": {
     "duration": 0.025613,
     "end_time": "2024-12-05T08:49:09.101640",
     "exception": false,
     "start_time": "2024-12-05T08:49:09.076027",
     "status": "completed"
    },
    "tags": []
   },
   "outputs": [],
   "source": [
    "def title(df):\n",
    "    title=[]\n",
    "    for i in range(len(df['Name'])):\n",
    "        for j in range(len(df['Name'].astype(str)[i].split())):\n",
    "            if ',' in df['Name'].astype(str)[i].split()[j]:\n",
    "                title.append(df['Name'].astype(str)[i].split()[j+1])\n",
    "                break\n",
    "    title=pd.DataFrame({'title': title})\n",
    "    df=pd.concat([df,title], axis=1)\n",
    "    df.drop('Name', axis=1, inplace=True)\n",
    "    return df"
   ]
  },
  {
   "cell_type": "code",
   "execution_count": 19,
   "id": "e3a69da7",
   "metadata": {
    "execution": {
     "iopub.execute_input": "2024-12-05T08:49:09.191215Z",
     "iopub.status.busy": "2024-12-05T08:49:09.190868Z",
     "iopub.status.idle": "2024-12-05T08:49:09.427833Z",
     "shell.execute_reply": "2024-12-05T08:49:09.426901Z"
    },
    "papermill": {
     "duration": 0.25566,
     "end_time": "2024-12-05T08:49:09.430197",
     "exception": false,
     "start_time": "2024-12-05T08:49:09.174537",
     "status": "completed"
    },
    "tags": []
   },
   "outputs": [],
   "source": [
    "X=title(X)\n",
    "test_df=title(test_df)"
   ]
  },
  {
   "cell_type": "code",
   "execution_count": 20,
   "id": "ff5a641d",
   "metadata": {
    "execution": {
     "iopub.execute_input": "2024-12-05T08:49:09.461496Z",
     "iopub.status.busy": "2024-12-05T08:49:09.461144Z",
     "iopub.status.idle": "2024-12-05T08:49:09.467858Z",
     "shell.execute_reply": "2024-12-05T08:49:09.466727Z"
    },
    "papermill": {
     "duration": 0.025206,
     "end_time": "2024-12-05T08:49:09.470227",
     "exception": false,
     "start_time": "2024-12-05T08:49:09.445021",
     "status": "completed"
    },
    "tags": []
   },
   "outputs": [
    {
     "data": {
      "text/plain": [
       "891"
      ]
     },
     "execution_count": 20,
     "metadata": {},
     "output_type": "execute_result"
    }
   ],
   "source": [
    "len(X_copy['Name'])"
   ]
  },
  {
   "cell_type": "code",
   "execution_count": 21,
   "id": "10d8ef54",
   "metadata": {
    "execution": {
     "iopub.execute_input": "2024-12-05T08:49:09.501575Z",
     "iopub.status.busy": "2024-12-05T08:49:09.501152Z",
     "iopub.status.idle": "2024-12-05T08:49:09.509857Z",
     "shell.execute_reply": "2024-12-05T08:49:09.508691Z"
    },
    "papermill": {
     "duration": 0.026897,
     "end_time": "2024-12-05T08:49:09.512161",
     "exception": false,
     "start_time": "2024-12-05T08:49:09.485264",
     "status": "completed"
    },
    "tags": []
   },
   "outputs": [
    {
     "data": {
      "text/plain": [
       "Series([], Name: Name, dtype: object)"
      ]
     },
     "execution_count": 21,
     "metadata": {},
     "output_type": "execute_result"
    }
   ],
   "source": [
    "df[X['title'].isnull()]['Name']"
   ]
  },
  {
   "cell_type": "code",
   "execution_count": 22,
   "id": "ca604628",
   "metadata": {
    "execution": {
     "iopub.execute_input": "2024-12-05T08:49:09.544458Z",
     "iopub.status.busy": "2024-12-05T08:49:09.544093Z",
     "iopub.status.idle": "2024-12-05T08:49:09.549951Z",
     "shell.execute_reply": "2024-12-05T08:49:09.548737Z"
    },
    "papermill": {
     "duration": 0.02491,
     "end_time": "2024-12-05T08:49:09.552476",
     "exception": false,
     "start_time": "2024-12-05T08:49:09.527566",
     "status": "completed"
    },
    "tags": []
   },
   "outputs": [],
   "source": [
    "def age(X):\n",
    "    median_age=X['Age'].quantile(0.5)\n",
    "    X['Age']=X['Age'].fillna(median_age)\n",
    "    mean_fare=X['Fare'].mean()\n",
    "    X['Fare']=X['Fare'].fillna(mean_fare)\n",
    "    return X"
   ]
  },
  {
   "cell_type": "code",
   "execution_count": 23,
   "id": "c80ebfbe",
   "metadata": {
    "execution": {
     "iopub.execute_input": "2024-12-05T08:49:09.585933Z",
     "iopub.status.busy": "2024-12-05T08:49:09.584749Z",
     "iopub.status.idle": "2024-12-05T08:49:09.594361Z",
     "shell.execute_reply": "2024-12-05T08:49:09.593360Z"
    },
    "papermill": {
     "duration": 0.028048,
     "end_time": "2024-12-05T08:49:09.596628",
     "exception": false,
     "start_time": "2024-12-05T08:49:09.568580",
     "status": "completed"
    },
    "tags": []
   },
   "outputs": [],
   "source": [
    "X=age(X)\n",
    "test_df=age(test_df)"
   ]
  },
  {
   "cell_type": "code",
   "execution_count": 24,
   "id": "ac6ce099",
   "metadata": {
    "execution": {
     "iopub.execute_input": "2024-12-05T08:49:09.630045Z",
     "iopub.status.busy": "2024-12-05T08:49:09.629668Z",
     "iopub.status.idle": "2024-12-05T08:49:09.640722Z",
     "shell.execute_reply": "2024-12-05T08:49:09.639660Z"
    },
    "papermill": {
     "duration": 0.029866,
     "end_time": "2024-12-05T08:49:09.642917",
     "exception": false,
     "start_time": "2024-12-05T08:49:09.613051",
     "status": "completed"
    },
    "tags": []
   },
   "outputs": [
    {
     "data": {
      "text/html": [
       "<div>\n",
       "<style scoped>\n",
       "    .dataframe tbody tr th:only-of-type {\n",
       "        vertical-align: middle;\n",
       "    }\n",
       "\n",
       "    .dataframe tbody tr th {\n",
       "        vertical-align: top;\n",
       "    }\n",
       "\n",
       "    .dataframe thead th {\n",
       "        text-align: right;\n",
       "    }\n",
       "</style>\n",
       "<table border=\"1\" class=\"dataframe\">\n",
       "  <thead>\n",
       "    <tr style=\"text-align: right;\">\n",
       "      <th></th>\n",
       "      <th>count</th>\n",
       "    </tr>\n",
       "    <tr>\n",
       "      <th>title</th>\n",
       "      <th></th>\n",
       "    </tr>\n",
       "  </thead>\n",
       "  <tbody>\n",
       "    <tr>\n",
       "      <th>Mr.</th>\n",
       "      <td>517</td>\n",
       "    </tr>\n",
       "    <tr>\n",
       "      <th>Miss.</th>\n",
       "      <td>182</td>\n",
       "    </tr>\n",
       "    <tr>\n",
       "      <th>Mrs.</th>\n",
       "      <td>125</td>\n",
       "    </tr>\n",
       "    <tr>\n",
       "      <th>Master.</th>\n",
       "      <td>40</td>\n",
       "    </tr>\n",
       "    <tr>\n",
       "      <th>Dr.</th>\n",
       "      <td>7</td>\n",
       "    </tr>\n",
       "    <tr>\n",
       "      <th>Rev.</th>\n",
       "      <td>6</td>\n",
       "    </tr>\n",
       "    <tr>\n",
       "      <th>Mlle.</th>\n",
       "      <td>2</td>\n",
       "    </tr>\n",
       "    <tr>\n",
       "      <th>Major.</th>\n",
       "      <td>2</td>\n",
       "    </tr>\n",
       "    <tr>\n",
       "      <th>Col.</th>\n",
       "      <td>2</td>\n",
       "    </tr>\n",
       "    <tr>\n",
       "      <th>the</th>\n",
       "      <td>1</td>\n",
       "    </tr>\n",
       "    <tr>\n",
       "      <th>Capt.</th>\n",
       "      <td>1</td>\n",
       "    </tr>\n",
       "    <tr>\n",
       "      <th>Ms.</th>\n",
       "      <td>1</td>\n",
       "    </tr>\n",
       "    <tr>\n",
       "      <th>Sir.</th>\n",
       "      <td>1</td>\n",
       "    </tr>\n",
       "    <tr>\n",
       "      <th>Lady.</th>\n",
       "      <td>1</td>\n",
       "    </tr>\n",
       "    <tr>\n",
       "      <th>Mme.</th>\n",
       "      <td>1</td>\n",
       "    </tr>\n",
       "    <tr>\n",
       "      <th>Don.</th>\n",
       "      <td>1</td>\n",
       "    </tr>\n",
       "    <tr>\n",
       "      <th>Jonkheer.</th>\n",
       "      <td>1</td>\n",
       "    </tr>\n",
       "  </tbody>\n",
       "</table>\n",
       "</div>"
      ],
      "text/plain": [
       "           count\n",
       "title           \n",
       "Mr.          517\n",
       "Miss.        182\n",
       "Mrs.         125\n",
       "Master.       40\n",
       "Dr.            7\n",
       "Rev.           6\n",
       "Mlle.          2\n",
       "Major.         2\n",
       "Col.           2\n",
       "the            1\n",
       "Capt.          1\n",
       "Ms.            1\n",
       "Sir.           1\n",
       "Lady.          1\n",
       "Mme.           1\n",
       "Don.           1\n",
       "Jonkheer.      1"
      ]
     },
     "execution_count": 24,
     "metadata": {},
     "output_type": "execute_result"
    }
   ],
   "source": [
    "total=pd.DataFrame(X['title'].value_counts())\n",
    "total"
   ]
  },
  {
   "cell_type": "code",
   "execution_count": 25,
   "id": "3ac9eaca",
   "metadata": {
    "execution": {
     "iopub.execute_input": "2024-12-05T08:49:09.675537Z",
     "iopub.status.busy": "2024-12-05T08:49:09.675185Z",
     "iopub.status.idle": "2024-12-05T08:49:09.687936Z",
     "shell.execute_reply": "2024-12-05T08:49:09.686840Z"
    },
    "papermill": {
     "duration": 0.031606,
     "end_time": "2024-12-05T08:49:09.690231",
     "exception": false,
     "start_time": "2024-12-05T08:49:09.658625",
     "status": "completed"
    },
    "tags": []
   },
   "outputs": [
    {
     "data": {
      "text/html": [
       "<div>\n",
       "<style scoped>\n",
       "    .dataframe tbody tr th:only-of-type {\n",
       "        vertical-align: middle;\n",
       "    }\n",
       "\n",
       "    .dataframe tbody tr th {\n",
       "        vertical-align: top;\n",
       "    }\n",
       "\n",
       "    .dataframe thead th {\n",
       "        text-align: right;\n",
       "    }\n",
       "</style>\n",
       "<table border=\"1\" class=\"dataframe\">\n",
       "  <thead>\n",
       "    <tr style=\"text-align: right;\">\n",
       "      <th></th>\n",
       "      <th>count</th>\n",
       "    </tr>\n",
       "    <tr>\n",
       "      <th>title</th>\n",
       "      <th></th>\n",
       "    </tr>\n",
       "  </thead>\n",
       "  <tbody>\n",
       "    <tr>\n",
       "      <th>Miss.</th>\n",
       "      <td>127</td>\n",
       "    </tr>\n",
       "    <tr>\n",
       "      <th>Mrs.</th>\n",
       "      <td>99</td>\n",
       "    </tr>\n",
       "    <tr>\n",
       "      <th>Mr.</th>\n",
       "      <td>81</td>\n",
       "    </tr>\n",
       "    <tr>\n",
       "      <th>Master.</th>\n",
       "      <td>23</td>\n",
       "    </tr>\n",
       "    <tr>\n",
       "      <th>Dr.</th>\n",
       "      <td>3</td>\n",
       "    </tr>\n",
       "    <tr>\n",
       "      <th>Mlle.</th>\n",
       "      <td>2</td>\n",
       "    </tr>\n",
       "    <tr>\n",
       "      <th>Mme.</th>\n",
       "      <td>1</td>\n",
       "    </tr>\n",
       "    <tr>\n",
       "      <th>Ms.</th>\n",
       "      <td>1</td>\n",
       "    </tr>\n",
       "    <tr>\n",
       "      <th>Major.</th>\n",
       "      <td>1</td>\n",
       "    </tr>\n",
       "    <tr>\n",
       "      <th>Lady.</th>\n",
       "      <td>1</td>\n",
       "    </tr>\n",
       "    <tr>\n",
       "      <th>Sir.</th>\n",
       "      <td>1</td>\n",
       "    </tr>\n",
       "    <tr>\n",
       "      <th>Col.</th>\n",
       "      <td>1</td>\n",
       "    </tr>\n",
       "    <tr>\n",
       "      <th>the</th>\n",
       "      <td>1</td>\n",
       "    </tr>\n",
       "  </tbody>\n",
       "</table>\n",
       "</div>"
      ],
      "text/plain": [
       "         count\n",
       "title         \n",
       "Miss.      127\n",
       "Mrs.        99\n",
       "Mr.         81\n",
       "Master.     23\n",
       "Dr.          3\n",
       "Mlle.        2\n",
       "Mme.         1\n",
       "Ms.          1\n",
       "Major.       1\n",
       "Lady.        1\n",
       "Sir.         1\n",
       "Col.         1\n",
       "the          1"
      ]
     },
     "execution_count": 25,
     "metadata": {},
     "output_type": "execute_result"
    }
   ],
   "source": [
    "survive=X[df['Survived']==1]['title'].value_counts()\n",
    "survive=pd.DataFrame(survive)\n",
    "survive"
   ]
  },
  {
   "cell_type": "code",
   "execution_count": 26,
   "id": "49480d29",
   "metadata": {
    "execution": {
     "iopub.execute_input": "2024-12-05T08:49:09.723113Z",
     "iopub.status.busy": "2024-12-05T08:49:09.722720Z",
     "iopub.status.idle": "2024-12-05T08:49:09.736918Z",
     "shell.execute_reply": "2024-12-05T08:49:09.735715Z"
    },
    "papermill": {
     "duration": 0.033265,
     "end_time": "2024-12-05T08:49:09.739115",
     "exception": false,
     "start_time": "2024-12-05T08:49:09.705850",
     "status": "completed"
    },
    "tags": []
   },
   "outputs": [
    {
     "data": {
      "text/plain": [
       "array([[  0.],\n",
       "       [  1.],\n",
       "       [  0.],\n",
       "       [  3.],\n",
       "       [  0.],\n",
       "       [ nan],\n",
       "       [  1.],\n",
       "       [ 23.],\n",
       "       [127.],\n",
       "       [ nan],\n",
       "       [ nan],\n",
       "       [ 81.],\n",
       "       [ 99.],\n",
       "       [ nan],\n",
       "       [  0.],\n",
       "       [ nan],\n",
       "       [ nan]])"
      ]
     },
     "execution_count": 26,
     "metadata": {},
     "output_type": "execute_result"
    }
   ],
   "source": [
    "alive=pd.DataFrame(X['title'].value_counts()-X[df['Survived']==0]['title'].value_counts())\n",
    "\n",
    "alive=alive.to_numpy()\n",
    "alive"
   ]
  },
  {
   "cell_type": "code",
   "execution_count": 27,
   "id": "a099479a",
   "metadata": {
    "execution": {
     "iopub.execute_input": "2024-12-05T08:49:09.771960Z",
     "iopub.status.busy": "2024-12-05T08:49:09.771549Z",
     "iopub.status.idle": "2024-12-05T08:49:09.776914Z",
     "shell.execute_reply": "2024-12-05T08:49:09.775894Z"
    },
    "papermill": {
     "duration": 0.024117,
     "end_time": "2024-12-05T08:49:09.779063",
     "exception": false,
     "start_time": "2024-12-05T08:49:09.754946",
     "status": "completed"
    },
    "tags": []
   },
   "outputs": [],
   "source": [
    "temporary=[]\n",
    "for i in range(len(alive)):\n",
    "    if pd.isnull(alive[i]):\n",
    "        temporary.append(i)"
   ]
  },
  {
   "cell_type": "code",
   "execution_count": 28,
   "id": "d082d089",
   "metadata": {
    "execution": {
     "iopub.execute_input": "2024-12-05T08:49:09.812746Z",
     "iopub.status.busy": "2024-12-05T08:49:09.812392Z",
     "iopub.status.idle": "2024-12-05T08:49:09.822453Z",
     "shell.execute_reply": "2024-12-05T08:49:09.821396Z"
    },
    "papermill": {
     "duration": 0.029275,
     "end_time": "2024-12-05T08:49:09.824692",
     "exception": false,
     "start_time": "2024-12-05T08:49:09.795417",
     "status": "completed"
    },
    "tags": []
   },
   "outputs": [],
   "source": [
    "titlenames=list((X['title'].value_counts()-X[df['Survived']==0]['title'].value_counts()).index)\n",
    "titlenames.append('Dona.')"
   ]
  },
  {
   "cell_type": "code",
   "execution_count": 29,
   "id": "c2ccc015",
   "metadata": {
    "execution": {
     "iopub.execute_input": "2024-12-05T08:49:09.857857Z",
     "iopub.status.busy": "2024-12-05T08:49:09.857496Z",
     "iopub.status.idle": "2024-12-05T08:49:09.864286Z",
     "shell.execute_reply": "2024-12-05T08:49:09.863320Z"
    },
    "papermill": {
     "duration": 0.02551,
     "end_time": "2024-12-05T08:49:09.866288",
     "exception": false,
     "start_time": "2024-12-05T08:49:09.840778",
     "status": "completed"
    },
    "tags": []
   },
   "outputs": [
    {
     "data": {
      "text/plain": [
       "['C', 'a', 'p', 't', '.']"
      ]
     },
     "execution_count": 29,
     "metadata": {},
     "output_type": "execute_result"
    }
   ],
   "source": [
    "list(titlenames[0])"
   ]
  },
  {
   "cell_type": "code",
   "execution_count": 30,
   "id": "13d9df1b",
   "metadata": {
    "execution": {
     "iopub.execute_input": "2024-12-05T08:49:09.899081Z",
     "iopub.status.busy": "2024-12-05T08:49:09.898697Z",
     "iopub.status.idle": "2024-12-05T08:49:09.903769Z",
     "shell.execute_reply": "2024-12-05T08:49:09.902494Z"
    },
    "papermill": {
     "duration": 0.023871,
     "end_time": "2024-12-05T08:49:09.905912",
     "exception": false,
     "start_time": "2024-12-05T08:49:09.882041",
     "status": "completed"
    },
    "tags": []
   },
   "outputs": [],
   "source": [
    "titlenames=pd.DataFrame(titlenames)"
   ]
  },
  {
   "cell_type": "code",
   "execution_count": 31,
   "id": "e07ca789",
   "metadata": {
    "execution": {
     "iopub.execute_input": "2024-12-05T08:49:09.941440Z",
     "iopub.status.busy": "2024-12-05T08:49:09.940328Z",
     "iopub.status.idle": "2024-12-05T08:49:09.946229Z",
     "shell.execute_reply": "2024-12-05T08:49:09.945302Z"
    },
    "papermill": {
     "duration": 0.02655,
     "end_time": "2024-12-05T08:49:09.948509",
     "exception": false,
     "start_time": "2024-12-05T08:49:09.921959",
     "status": "completed"
    },
    "tags": []
   },
   "outputs": [],
   "source": [
    "male_titles = [\"Capt.\", \"Col.\", \"Don.\", \"Jonkheer.\", \"Major.\", \"Master.\", \"Mr.\", \"Sir.\"]\n",
    "female_titles = [\"Lady.\", \"Miss.\", \"Mlle.\", \"Mme.\", \"Mrs.\", \"Ms.\", \"Dona.\"]\n",
    "gender_neutral_titles = [\"Dr.\", \"Rev.\", \"the\"]"
   ]
  },
  {
   "cell_type": "code",
   "execution_count": 32,
   "id": "bb42013b",
   "metadata": {
    "execution": {
     "iopub.execute_input": "2024-12-05T08:49:09.982291Z",
     "iopub.status.busy": "2024-12-05T08:49:09.981900Z",
     "iopub.status.idle": "2024-12-05T08:49:09.990717Z",
     "shell.execute_reply": "2024-12-05T08:49:09.989551Z"
    },
    "papermill": {
     "duration": 0.028313,
     "end_time": "2024-12-05T08:49:09.993022",
     "exception": false,
     "start_time": "2024-12-05T08:49:09.964709",
     "status": "completed"
    },
    "tags": []
   },
   "outputs": [
    {
     "data": {
      "text/plain": [
       "title\n",
       "Mr.        240\n",
       "Miss.       78\n",
       "Mrs.        72\n",
       "Master.     21\n",
       "Col.         2\n",
       "Rev.         2\n",
       "Ms.          1\n",
       "Dr.          1\n",
       "Dona.        1\n",
       "Name: count, dtype: int64"
      ]
     },
     "execution_count": 32,
     "metadata": {},
     "output_type": "execute_result"
    }
   ],
   "source": [
    "test_df['title'].value_counts()"
   ]
  },
  {
   "cell_type": "code",
   "execution_count": 33,
   "id": "d02bdcce",
   "metadata": {
    "execution": {
     "iopub.execute_input": "2024-12-05T08:49:10.029470Z",
     "iopub.status.busy": "2024-12-05T08:49:10.029091Z",
     "iopub.status.idle": "2024-12-05T08:49:10.035832Z",
     "shell.execute_reply": "2024-12-05T08:49:10.034570Z"
    },
    "papermill": {
     "duration": 0.027922,
     "end_time": "2024-12-05T08:49:10.038138",
     "exception": false,
     "start_time": "2024-12-05T08:49:10.010216",
     "status": "completed"
    },
    "tags": []
   },
   "outputs": [],
   "source": [
    "def title_trans(X):\n",
    "            \n",
    "    dum=pd.get_dummies(X['title'].replace(gender_neutral_titles, 'gender_neutral_titles').replace(male_titles, 'male_titles').replace(female_titles, 'female_titles'), dtype=int)\n",
    "    X=pd.concat([X,dum], axis=1)\n",
    "\n",
    "    X.drop('title', axis=1, inplace=True)\n",
    "    return X"
   ]
  },
  {
   "cell_type": "code",
   "execution_count": 34,
   "id": "ee73ffad",
   "metadata": {
    "execution": {
     "iopub.execute_input": "2024-12-05T08:49:10.072110Z",
     "iopub.status.busy": "2024-12-05T08:49:10.071732Z",
     "iopub.status.idle": "2024-12-05T08:49:10.087177Z",
     "shell.execute_reply": "2024-12-05T08:49:10.086068Z"
    },
    "papermill": {
     "duration": 0.035259,
     "end_time": "2024-12-05T08:49:10.089605",
     "exception": false,
     "start_time": "2024-12-05T08:49:10.054346",
     "status": "completed"
    },
    "tags": []
   },
   "outputs": [],
   "source": [
    "X=title_trans(X)\n",
    "test_df=title_trans(test_df)"
   ]
  },
  {
   "cell_type": "code",
   "execution_count": 35,
   "id": "bbec68ab",
   "metadata": {
    "execution": {
     "iopub.execute_input": "2024-12-05T08:49:10.123938Z",
     "iopub.status.busy": "2024-12-05T08:49:10.123538Z",
     "iopub.status.idle": "2024-12-05T08:49:10.135554Z",
     "shell.execute_reply": "2024-12-05T08:49:10.134302Z"
    },
    "papermill": {
     "duration": 0.031815,
     "end_time": "2024-12-05T08:49:10.137957",
     "exception": false,
     "start_time": "2024-12-05T08:49:10.106142",
     "status": "completed"
    },
    "tags": []
   },
   "outputs": [
    {
     "name": "stdout",
     "output_type": "stream",
     "text": [
      "<class 'pandas.core.frame.DataFrame'>\n",
      "RangeIndex: 418 entries, 0 to 417\n",
      "Data columns (total 12 columns):\n",
      " #   Column                 Non-Null Count  Dtype  \n",
      "---  ------                 --------------  -----  \n",
      " 0   Pclass                 418 non-null    int64  \n",
      " 1   Age                    418 non-null    float64\n",
      " 2   SibSp                  418 non-null    int64  \n",
      " 3   Parch                  418 non-null    int64  \n",
      " 4   Fare                   418 non-null    float64\n",
      " 5   Cabin                  418 non-null    object \n",
      " 6   Q_emb                  418 non-null    int64  \n",
      " 7   S_emb                  418 non-null    int64  \n",
      " 8   male                   418 non-null    int64  \n",
      " 9   female_titles          418 non-null    int64  \n",
      " 10  gender_neutral_titles  418 non-null    int64  \n",
      " 11  male_titles            418 non-null    int64  \n",
      "dtypes: float64(2), int64(9), object(1)\n",
      "memory usage: 39.3+ KB\n"
     ]
    }
   ],
   "source": [
    "test_df.info()"
   ]
  },
  {
   "cell_type": "code",
   "execution_count": 36,
   "id": "60727a8b",
   "metadata": {
    "execution": {
     "iopub.execute_input": "2024-12-05T08:49:10.172070Z",
     "iopub.status.busy": "2024-12-05T08:49:10.171690Z",
     "iopub.status.idle": "2024-12-05T08:49:10.183377Z",
     "shell.execute_reply": "2024-12-05T08:49:10.182392Z"
    },
    "papermill": {
     "duration": 0.031595,
     "end_time": "2024-12-05T08:49:10.185717",
     "exception": false,
     "start_time": "2024-12-05T08:49:10.154122",
     "status": "completed"
    },
    "tags": []
   },
   "outputs": [
    {
     "name": "stdout",
     "output_type": "stream",
     "text": [
      "<class 'pandas.core.frame.DataFrame'>\n",
      "RangeIndex: 891 entries, 0 to 890\n",
      "Data columns (total 12 columns):\n",
      " #   Column                 Non-Null Count  Dtype  \n",
      "---  ------                 --------------  -----  \n",
      " 0   Pclass                 891 non-null    int64  \n",
      " 1   Age                    891 non-null    float64\n",
      " 2   SibSp                  891 non-null    int64  \n",
      " 3   Parch                  891 non-null    int64  \n",
      " 4   Fare                   891 non-null    float64\n",
      " 5   Cabin                  891 non-null    object \n",
      " 6   Q_emb                  891 non-null    int64  \n",
      " 7   S_emb                  891 non-null    int64  \n",
      " 8   male                   891 non-null    int64  \n",
      " 9   female_titles          891 non-null    int64  \n",
      " 10  gender_neutral_titles  891 non-null    int64  \n",
      " 11  male_titles            891 non-null    int64  \n",
      "dtypes: float64(2), int64(9), object(1)\n",
      "memory usage: 83.7+ KB\n"
     ]
    }
   ],
   "source": [
    "X.info()"
   ]
  },
  {
   "cell_type": "code",
   "execution_count": 37,
   "id": "10ccd182",
   "metadata": {
    "execution": {
     "iopub.execute_input": "2024-12-05T08:49:10.219547Z",
     "iopub.status.busy": "2024-12-05T08:49:10.219215Z",
     "iopub.status.idle": "2024-12-05T08:49:10.230487Z",
     "shell.execute_reply": "2024-12-05T08:49:10.229245Z"
    },
    "papermill": {
     "duration": 0.031453,
     "end_time": "2024-12-05T08:49:10.233284",
     "exception": false,
     "start_time": "2024-12-05T08:49:10.201831",
     "status": "completed"
    },
    "tags": []
   },
   "outputs": [
    {
     "name": "stdout",
     "output_type": "stream",
     "text": [
      "<class 'pandas.core.frame.DataFrame'>\n",
      "RangeIndex: 891 entries, 0 to 890\n",
      "Data columns (total 12 columns):\n",
      " #   Column                 Non-Null Count  Dtype  \n",
      "---  ------                 --------------  -----  \n",
      " 0   Pclass                 891 non-null    int64  \n",
      " 1   Age                    891 non-null    float64\n",
      " 2   SibSp                  891 non-null    int64  \n",
      " 3   Parch                  891 non-null    int64  \n",
      " 4   Fare                   891 non-null    float64\n",
      " 5   Cabin                  891 non-null    object \n",
      " 6   Q_emb                  891 non-null    int64  \n",
      " 7   S_emb                  891 non-null    int64  \n",
      " 8   male                   891 non-null    int64  \n",
      " 9   female_titles          891 non-null    int64  \n",
      " 10  gender_neutral_titles  891 non-null    int64  \n",
      " 11  male_titles            891 non-null    int64  \n",
      "dtypes: float64(2), int64(9), object(1)\n",
      "memory usage: 83.7+ KB\n"
     ]
    }
   ],
   "source": [
    "X.info()"
   ]
  },
  {
   "cell_type": "code",
   "execution_count": 38,
   "id": "2b7ca097",
   "metadata": {
    "execution": {
     "iopub.execute_input": "2024-12-05T08:49:10.267824Z",
     "iopub.status.busy": "2024-12-05T08:49:10.267474Z",
     "iopub.status.idle": "2024-12-05T08:49:11.791919Z",
     "shell.execute_reply": "2024-12-05T08:49:11.790837Z"
    },
    "papermill": {
     "duration": 1.544489,
     "end_time": "2024-12-05T08:49:11.794440",
     "exception": false,
     "start_time": "2024-12-05T08:49:10.249951",
     "status": "completed"
    },
    "tags": []
   },
   "outputs": [],
   "source": [
    "import seaborn as sns"
   ]
  },
  {
   "cell_type": "code",
   "execution_count": 39,
   "id": "a95da682",
   "metadata": {
    "execution": {
     "iopub.execute_input": "2024-12-05T08:49:11.829394Z",
     "iopub.status.busy": "2024-12-05T08:49:11.829041Z",
     "iopub.status.idle": "2024-12-05T08:49:11.841087Z",
     "shell.execute_reply": "2024-12-05T08:49:11.839867Z"
    },
    "papermill": {
     "duration": 0.032157,
     "end_time": "2024-12-05T08:49:11.843397",
     "exception": false,
     "start_time": "2024-12-05T08:49:11.811240",
     "status": "completed"
    },
    "tags": []
   },
   "outputs": [
    {
     "name": "stdout",
     "output_type": "stream",
     "text": [
      "<class 'pandas.core.frame.DataFrame'>\n",
      "RangeIndex: 891 entries, 0 to 890\n",
      "Data columns (total 12 columns):\n",
      " #   Column                 Non-Null Count  Dtype  \n",
      "---  ------                 --------------  -----  \n",
      " 0   Pclass                 891 non-null    int64  \n",
      " 1   Age                    891 non-null    float64\n",
      " 2   SibSp                  891 non-null    int64  \n",
      " 3   Parch                  891 non-null    int64  \n",
      " 4   Fare                   891 non-null    float64\n",
      " 5   Cabin                  891 non-null    object \n",
      " 6   Q_emb                  891 non-null    int64  \n",
      " 7   S_emb                  891 non-null    int64  \n",
      " 8   male                   891 non-null    int64  \n",
      " 9   female_titles          891 non-null    int64  \n",
      " 10  gender_neutral_titles  891 non-null    int64  \n",
      " 11  male_titles            891 non-null    int64  \n",
      "dtypes: float64(2), int64(9), object(1)\n",
      "memory usage: 83.7+ KB\n"
     ]
    }
   ],
   "source": [
    "X.info()"
   ]
  },
  {
   "cell_type": "code",
   "execution_count": 40,
   "id": "f62d29e1",
   "metadata": {
    "execution": {
     "iopub.execute_input": "2024-12-05T08:49:11.877737Z",
     "iopub.status.busy": "2024-12-05T08:49:11.877364Z",
     "iopub.status.idle": "2024-12-05T08:49:11.883063Z",
     "shell.execute_reply": "2024-12-05T08:49:11.881940Z"
    },
    "papermill": {
     "duration": 0.025045,
     "end_time": "2024-12-05T08:49:11.885290",
     "exception": false,
     "start_time": "2024-12-05T08:49:11.860245",
     "status": "completed"
    },
    "tags": []
   },
   "outputs": [],
   "source": [
    "def fam(X):\n",
    "    X['Family_size']=X['SibSp']+X['Parch']+1\n",
    "    X['Alone']=np.where(X['Family_size']==1, 1, 0)\n",
    "    X.drop(columns=['SibSp', 'Parch'], inplace=True)\n",
    "    return X"
   ]
  },
  {
   "cell_type": "code",
   "execution_count": 41,
   "id": "3dd7f8c3",
   "metadata": {
    "execution": {
     "iopub.execute_input": "2024-12-05T08:49:11.920034Z",
     "iopub.status.busy": "2024-12-05T08:49:11.919646Z",
     "iopub.status.idle": "2024-12-05T08:49:11.929822Z",
     "shell.execute_reply": "2024-12-05T08:49:11.928754Z"
    },
    "papermill": {
     "duration": 0.029812,
     "end_time": "2024-12-05T08:49:11.931973",
     "exception": false,
     "start_time": "2024-12-05T08:49:11.902161",
     "status": "completed"
    },
    "tags": []
   },
   "outputs": [],
   "source": [
    "X=fam(X)\n",
    "test_df=fam(test_df)"
   ]
  },
  {
   "cell_type": "code",
   "execution_count": 42,
   "id": "3b4033bd",
   "metadata": {
    "execution": {
     "iopub.execute_input": "2024-12-05T08:49:11.966143Z",
     "iopub.status.busy": "2024-12-05T08:49:11.965770Z",
     "iopub.status.idle": "2024-12-05T08:49:11.979574Z",
     "shell.execute_reply": "2024-12-05T08:49:11.978527Z"
    },
    "papermill": {
     "duration": 0.03364,
     "end_time": "2024-12-05T08:49:11.981896",
     "exception": false,
     "start_time": "2024-12-05T08:49:11.948256",
     "status": "completed"
    },
    "tags": []
   },
   "outputs": [
    {
     "data": {
      "text/html": [
       "<div>\n",
       "<style scoped>\n",
       "    .dataframe tbody tr th:only-of-type {\n",
       "        vertical-align: middle;\n",
       "    }\n",
       "\n",
       "    .dataframe tbody tr th {\n",
       "        vertical-align: top;\n",
       "    }\n",
       "\n",
       "    .dataframe thead th {\n",
       "        text-align: right;\n",
       "    }\n",
       "</style>\n",
       "<table border=\"1\" class=\"dataframe\">\n",
       "  <thead>\n",
       "    <tr style=\"text-align: right;\">\n",
       "      <th></th>\n",
       "      <th>Pclass</th>\n",
       "      <th>Age</th>\n",
       "      <th>Fare</th>\n",
       "      <th>Cabin</th>\n",
       "      <th>Q_emb</th>\n",
       "      <th>S_emb</th>\n",
       "      <th>male</th>\n",
       "      <th>female_titles</th>\n",
       "      <th>gender_neutral_titles</th>\n",
       "      <th>male_titles</th>\n",
       "      <th>Family_size</th>\n",
       "      <th>Alone</th>\n",
       "    </tr>\n",
       "  </thead>\n",
       "  <tbody>\n",
       "    <tr>\n",
       "      <th>0</th>\n",
       "      <td>3</td>\n",
       "      <td>22.0</td>\n",
       "      <td>7.2500</td>\n",
       "      <td>No_Cabin</td>\n",
       "      <td>0</td>\n",
       "      <td>1</td>\n",
       "      <td>1</td>\n",
       "      <td>0</td>\n",
       "      <td>0</td>\n",
       "      <td>1</td>\n",
       "      <td>2</td>\n",
       "      <td>0</td>\n",
       "    </tr>\n",
       "    <tr>\n",
       "      <th>1</th>\n",
       "      <td>1</td>\n",
       "      <td>38.0</td>\n",
       "      <td>71.2833</td>\n",
       "      <td>C85</td>\n",
       "      <td>0</td>\n",
       "      <td>0</td>\n",
       "      <td>0</td>\n",
       "      <td>1</td>\n",
       "      <td>0</td>\n",
       "      <td>0</td>\n",
       "      <td>2</td>\n",
       "      <td>0</td>\n",
       "    </tr>\n",
       "    <tr>\n",
       "      <th>2</th>\n",
       "      <td>3</td>\n",
       "      <td>26.0</td>\n",
       "      <td>7.9250</td>\n",
       "      <td>No_Cabin</td>\n",
       "      <td>0</td>\n",
       "      <td>1</td>\n",
       "      <td>0</td>\n",
       "      <td>1</td>\n",
       "      <td>0</td>\n",
       "      <td>0</td>\n",
       "      <td>1</td>\n",
       "      <td>1</td>\n",
       "    </tr>\n",
       "    <tr>\n",
       "      <th>3</th>\n",
       "      <td>1</td>\n",
       "      <td>35.0</td>\n",
       "      <td>53.1000</td>\n",
       "      <td>C123</td>\n",
       "      <td>0</td>\n",
       "      <td>1</td>\n",
       "      <td>0</td>\n",
       "      <td>1</td>\n",
       "      <td>0</td>\n",
       "      <td>0</td>\n",
       "      <td>2</td>\n",
       "      <td>0</td>\n",
       "    </tr>\n",
       "    <tr>\n",
       "      <th>4</th>\n",
       "      <td>3</td>\n",
       "      <td>35.0</td>\n",
       "      <td>8.0500</td>\n",
       "      <td>No_Cabin</td>\n",
       "      <td>0</td>\n",
       "      <td>1</td>\n",
       "      <td>1</td>\n",
       "      <td>0</td>\n",
       "      <td>0</td>\n",
       "      <td>1</td>\n",
       "      <td>1</td>\n",
       "      <td>1</td>\n",
       "    </tr>\n",
       "  </tbody>\n",
       "</table>\n",
       "</div>"
      ],
      "text/plain": [
       "   Pclass   Age     Fare     Cabin  Q_emb  S_emb  male  female_titles  \\\n",
       "0       3  22.0   7.2500  No_Cabin      0      1     1              0   \n",
       "1       1  38.0  71.2833       C85      0      0     0              1   \n",
       "2       3  26.0   7.9250  No_Cabin      0      1     0              1   \n",
       "3       1  35.0  53.1000      C123      0      1     0              1   \n",
       "4       3  35.0   8.0500  No_Cabin      0      1     1              0   \n",
       "\n",
       "   gender_neutral_titles  male_titles  Family_size  Alone  \n",
       "0                      0            1            2      0  \n",
       "1                      0            0            2      0  \n",
       "2                      0            0            1      1  \n",
       "3                      0            0            2      0  \n",
       "4                      0            1            1      1  "
      ]
     },
     "execution_count": 42,
     "metadata": {},
     "output_type": "execute_result"
    }
   ],
   "source": [
    "X.head()"
   ]
  },
  {
   "cell_type": "code",
   "execution_count": 43,
   "id": "6a5e4fc2",
   "metadata": {
    "execution": {
     "iopub.execute_input": "2024-12-05T08:49:12.018324Z",
     "iopub.status.busy": "2024-12-05T08:49:12.017960Z",
     "iopub.status.idle": "2024-12-05T08:49:12.027319Z",
     "shell.execute_reply": "2024-12-05T08:49:12.025950Z"
    },
    "papermill": {
     "duration": 0.030501,
     "end_time": "2024-12-05T08:49:12.029674",
     "exception": false,
     "start_time": "2024-12-05T08:49:11.999173",
     "status": "completed"
    },
    "tags": []
   },
   "outputs": [
    {
     "data": {
      "text/plain": [
       "4.140875000000001"
      ]
     },
     "execution_count": 43,
     "metadata": {},
     "output_type": "execute_result"
    }
   ],
   "source": [
    "X['Fare'].quantile(0.017)"
   ]
  },
  {
   "cell_type": "code",
   "execution_count": 44,
   "id": "d020c7d7",
   "metadata": {
    "execution": {
     "iopub.execute_input": "2024-12-05T08:49:12.065632Z",
     "iopub.status.busy": "2024-12-05T08:49:12.065246Z",
     "iopub.status.idle": "2024-12-05T08:49:12.070070Z",
     "shell.execute_reply": "2024-12-05T08:49:12.068966Z"
    },
    "papermill": {
     "duration": 0.026025,
     "end_time": "2024-12-05T08:49:12.072305",
     "exception": false,
     "start_time": "2024-12-05T08:49:12.046280",
     "status": "completed"
    },
    "tags": []
   },
   "outputs": [],
   "source": [
    "import matplotlib.pyplot as plt"
   ]
  },
  {
   "cell_type": "code",
   "execution_count": 45,
   "id": "cf026bff",
   "metadata": {
    "execution": {
     "iopub.execute_input": "2024-12-05T08:49:12.108704Z",
     "iopub.status.busy": "2024-12-05T08:49:12.107752Z",
     "iopub.status.idle": "2024-12-05T08:49:12.112200Z",
     "shell.execute_reply": "2024-12-05T08:49:12.111149Z"
    },
    "papermill": {
     "duration": 0.024291,
     "end_time": "2024-12-05T08:49:12.114228",
     "exception": false,
     "start_time": "2024-12-05T08:49:12.089937",
     "status": "completed"
    },
    "tags": []
   },
   "outputs": [],
   "source": [
    "#X['Fare']=X['Fare'].replace(0, X['Fare'].quantile(0.017))\n",
    "#test_df['Fare']=test_df['Fare'].replace(0, test_df['Fare'].quantile(0.017))"
   ]
  },
  {
   "cell_type": "code",
   "execution_count": 46,
   "id": "4d6dc625",
   "metadata": {
    "execution": {
     "iopub.execute_input": "2024-12-05T08:49:12.150183Z",
     "iopub.status.busy": "2024-12-05T08:49:12.149824Z",
     "iopub.status.idle": "2024-12-05T08:49:12.166572Z",
     "shell.execute_reply": "2024-12-05T08:49:12.165455Z"
    },
    "papermill": {
     "duration": 0.037066,
     "end_time": "2024-12-05T08:49:12.168523",
     "exception": false,
     "start_time": "2024-12-05T08:49:12.131457",
     "status": "completed"
    },
    "tags": []
   },
   "outputs": [
    {
     "data": {
      "text/html": [
       "<div>\n",
       "<style scoped>\n",
       "    .dataframe tbody tr th:only-of-type {\n",
       "        vertical-align: middle;\n",
       "    }\n",
       "\n",
       "    .dataframe tbody tr th {\n",
       "        vertical-align: top;\n",
       "    }\n",
       "\n",
       "    .dataframe thead th {\n",
       "        text-align: right;\n",
       "    }\n",
       "</style>\n",
       "<table border=\"1\" class=\"dataframe\">\n",
       "  <thead>\n",
       "    <tr style=\"text-align: right;\">\n",
       "      <th></th>\n",
       "      <th>Pclass</th>\n",
       "      <th>Age</th>\n",
       "      <th>Fare</th>\n",
       "      <th>Cabin</th>\n",
       "      <th>Q_emb</th>\n",
       "      <th>S_emb</th>\n",
       "      <th>male</th>\n",
       "      <th>female_titles</th>\n",
       "      <th>gender_neutral_titles</th>\n",
       "      <th>male_titles</th>\n",
       "      <th>Family_size</th>\n",
       "      <th>Alone</th>\n",
       "    </tr>\n",
       "  </thead>\n",
       "  <tbody>\n",
       "    <tr>\n",
       "      <th>0</th>\n",
       "      <td>3</td>\n",
       "      <td>22.0</td>\n",
       "      <td>7.2500</td>\n",
       "      <td>No_Cabin</td>\n",
       "      <td>0</td>\n",
       "      <td>1</td>\n",
       "      <td>1</td>\n",
       "      <td>0</td>\n",
       "      <td>0</td>\n",
       "      <td>1</td>\n",
       "      <td>2</td>\n",
       "      <td>0</td>\n",
       "    </tr>\n",
       "    <tr>\n",
       "      <th>1</th>\n",
       "      <td>1</td>\n",
       "      <td>38.0</td>\n",
       "      <td>71.2833</td>\n",
       "      <td>C85</td>\n",
       "      <td>0</td>\n",
       "      <td>0</td>\n",
       "      <td>0</td>\n",
       "      <td>1</td>\n",
       "      <td>0</td>\n",
       "      <td>0</td>\n",
       "      <td>2</td>\n",
       "      <td>0</td>\n",
       "    </tr>\n",
       "    <tr>\n",
       "      <th>2</th>\n",
       "      <td>3</td>\n",
       "      <td>26.0</td>\n",
       "      <td>7.9250</td>\n",
       "      <td>No_Cabin</td>\n",
       "      <td>0</td>\n",
       "      <td>1</td>\n",
       "      <td>0</td>\n",
       "      <td>1</td>\n",
       "      <td>0</td>\n",
       "      <td>0</td>\n",
       "      <td>1</td>\n",
       "      <td>1</td>\n",
       "    </tr>\n",
       "    <tr>\n",
       "      <th>3</th>\n",
       "      <td>1</td>\n",
       "      <td>35.0</td>\n",
       "      <td>53.1000</td>\n",
       "      <td>C123</td>\n",
       "      <td>0</td>\n",
       "      <td>1</td>\n",
       "      <td>0</td>\n",
       "      <td>1</td>\n",
       "      <td>0</td>\n",
       "      <td>0</td>\n",
       "      <td>2</td>\n",
       "      <td>0</td>\n",
       "    </tr>\n",
       "    <tr>\n",
       "      <th>4</th>\n",
       "      <td>3</td>\n",
       "      <td>35.0</td>\n",
       "      <td>8.0500</td>\n",
       "      <td>No_Cabin</td>\n",
       "      <td>0</td>\n",
       "      <td>1</td>\n",
       "      <td>1</td>\n",
       "      <td>0</td>\n",
       "      <td>0</td>\n",
       "      <td>1</td>\n",
       "      <td>1</td>\n",
       "      <td>1</td>\n",
       "    </tr>\n",
       "    <tr>\n",
       "      <th>...</th>\n",
       "      <td>...</td>\n",
       "      <td>...</td>\n",
       "      <td>...</td>\n",
       "      <td>...</td>\n",
       "      <td>...</td>\n",
       "      <td>...</td>\n",
       "      <td>...</td>\n",
       "      <td>...</td>\n",
       "      <td>...</td>\n",
       "      <td>...</td>\n",
       "      <td>...</td>\n",
       "      <td>...</td>\n",
       "    </tr>\n",
       "    <tr>\n",
       "      <th>886</th>\n",
       "      <td>2</td>\n",
       "      <td>27.0</td>\n",
       "      <td>13.0000</td>\n",
       "      <td>No_Cabin</td>\n",
       "      <td>0</td>\n",
       "      <td>1</td>\n",
       "      <td>1</td>\n",
       "      <td>0</td>\n",
       "      <td>1</td>\n",
       "      <td>0</td>\n",
       "      <td>1</td>\n",
       "      <td>1</td>\n",
       "    </tr>\n",
       "    <tr>\n",
       "      <th>887</th>\n",
       "      <td>1</td>\n",
       "      <td>19.0</td>\n",
       "      <td>30.0000</td>\n",
       "      <td>B42</td>\n",
       "      <td>0</td>\n",
       "      <td>1</td>\n",
       "      <td>0</td>\n",
       "      <td>1</td>\n",
       "      <td>0</td>\n",
       "      <td>0</td>\n",
       "      <td>1</td>\n",
       "      <td>1</td>\n",
       "    </tr>\n",
       "    <tr>\n",
       "      <th>888</th>\n",
       "      <td>3</td>\n",
       "      <td>28.0</td>\n",
       "      <td>23.4500</td>\n",
       "      <td>No_Cabin</td>\n",
       "      <td>0</td>\n",
       "      <td>1</td>\n",
       "      <td>0</td>\n",
       "      <td>1</td>\n",
       "      <td>0</td>\n",
       "      <td>0</td>\n",
       "      <td>4</td>\n",
       "      <td>0</td>\n",
       "    </tr>\n",
       "    <tr>\n",
       "      <th>889</th>\n",
       "      <td>1</td>\n",
       "      <td>26.0</td>\n",
       "      <td>30.0000</td>\n",
       "      <td>C148</td>\n",
       "      <td>0</td>\n",
       "      <td>0</td>\n",
       "      <td>1</td>\n",
       "      <td>0</td>\n",
       "      <td>0</td>\n",
       "      <td>1</td>\n",
       "      <td>1</td>\n",
       "      <td>1</td>\n",
       "    </tr>\n",
       "    <tr>\n",
       "      <th>890</th>\n",
       "      <td>3</td>\n",
       "      <td>32.0</td>\n",
       "      <td>7.7500</td>\n",
       "      <td>No_Cabin</td>\n",
       "      <td>1</td>\n",
       "      <td>0</td>\n",
       "      <td>1</td>\n",
       "      <td>0</td>\n",
       "      <td>0</td>\n",
       "      <td>1</td>\n",
       "      <td>1</td>\n",
       "      <td>1</td>\n",
       "    </tr>\n",
       "  </tbody>\n",
       "</table>\n",
       "<p>891 rows × 12 columns</p>\n",
       "</div>"
      ],
      "text/plain": [
       "     Pclass   Age     Fare     Cabin  Q_emb  S_emb  male  female_titles  \\\n",
       "0         3  22.0   7.2500  No_Cabin      0      1     1              0   \n",
       "1         1  38.0  71.2833       C85      0      0     0              1   \n",
       "2         3  26.0   7.9250  No_Cabin      0      1     0              1   \n",
       "3         1  35.0  53.1000      C123      0      1     0              1   \n",
       "4         3  35.0   8.0500  No_Cabin      0      1     1              0   \n",
       "..      ...   ...      ...       ...    ...    ...   ...            ...   \n",
       "886       2  27.0  13.0000  No_Cabin      0      1     1              0   \n",
       "887       1  19.0  30.0000       B42      0      1     0              1   \n",
       "888       3  28.0  23.4500  No_Cabin      0      1     0              1   \n",
       "889       1  26.0  30.0000      C148      0      0     1              0   \n",
       "890       3  32.0   7.7500  No_Cabin      1      0     1              0   \n",
       "\n",
       "     gender_neutral_titles  male_titles  Family_size  Alone  \n",
       "0                        0            1            2      0  \n",
       "1                        0            0            2      0  \n",
       "2                        0            0            1      1  \n",
       "3                        0            0            2      0  \n",
       "4                        0            1            1      1  \n",
       "..                     ...          ...          ...    ...  \n",
       "886                      1            0            1      1  \n",
       "887                      0            0            1      1  \n",
       "888                      0            0            4      0  \n",
       "889                      0            1            1      1  \n",
       "890                      0            1            1      1  \n",
       "\n",
       "[891 rows x 12 columns]"
      ]
     },
     "execution_count": 46,
     "metadata": {},
     "output_type": "execute_result"
    }
   ],
   "source": [
    "X"
   ]
  },
  {
   "cell_type": "code",
   "execution_count": 47,
   "id": "35a262f1",
   "metadata": {
    "execution": {
     "iopub.execute_input": "2024-12-05T08:49:12.205658Z",
     "iopub.status.busy": "2024-12-05T08:49:12.205295Z",
     "iopub.status.idle": "2024-12-05T08:49:12.212952Z",
     "shell.execute_reply": "2024-12-05T08:49:12.211792Z"
    },
    "papermill": {
     "duration": 0.028861,
     "end_time": "2024-12-05T08:49:12.215032",
     "exception": false,
     "start_time": "2024-12-05T08:49:12.186171",
     "status": "completed"
    },
    "tags": []
   },
   "outputs": [],
   "source": [
    "X['Fare']=np.where(X['Fare']<7, 7, X['Fare'])\n",
    "test_df['Fare']=np.where(test_df['Fare']<=7, 7, test_df['Fare'])"
   ]
  },
  {
   "cell_type": "code",
   "execution_count": 48,
   "id": "de60dbdc",
   "metadata": {
    "execution": {
     "iopub.execute_input": "2024-12-05T08:49:12.250940Z",
     "iopub.status.busy": "2024-12-05T08:49:12.250567Z",
     "iopub.status.idle": "2024-12-05T08:49:12.268059Z",
     "shell.execute_reply": "2024-12-05T08:49:12.266789Z"
    },
    "papermill": {
     "duration": 0.037993,
     "end_time": "2024-12-05T08:49:12.270210",
     "exception": false,
     "start_time": "2024-12-05T08:49:12.232217",
     "status": "completed"
    },
    "tags": []
   },
   "outputs": [
    {
     "data": {
      "text/html": [
       "<div>\n",
       "<style scoped>\n",
       "    .dataframe tbody tr th:only-of-type {\n",
       "        vertical-align: middle;\n",
       "    }\n",
       "\n",
       "    .dataframe tbody tr th {\n",
       "        vertical-align: top;\n",
       "    }\n",
       "\n",
       "    .dataframe thead th {\n",
       "        text-align: right;\n",
       "    }\n",
       "</style>\n",
       "<table border=\"1\" class=\"dataframe\">\n",
       "  <thead>\n",
       "    <tr style=\"text-align: right;\">\n",
       "      <th></th>\n",
       "      <th>Pclass</th>\n",
       "      <th>Age</th>\n",
       "      <th>Fare</th>\n",
       "      <th>Cabin</th>\n",
       "      <th>Q_emb</th>\n",
       "      <th>S_emb</th>\n",
       "      <th>male</th>\n",
       "      <th>female_titles</th>\n",
       "      <th>gender_neutral_titles</th>\n",
       "      <th>male_titles</th>\n",
       "      <th>Family_size</th>\n",
       "      <th>Alone</th>\n",
       "    </tr>\n",
       "  </thead>\n",
       "  <tbody>\n",
       "    <tr>\n",
       "      <th>0</th>\n",
       "      <td>3</td>\n",
       "      <td>22.0</td>\n",
       "      <td>7.2500</td>\n",
       "      <td>No_Cabin</td>\n",
       "      <td>0</td>\n",
       "      <td>1</td>\n",
       "      <td>1</td>\n",
       "      <td>0</td>\n",
       "      <td>0</td>\n",
       "      <td>1</td>\n",
       "      <td>2</td>\n",
       "      <td>0</td>\n",
       "    </tr>\n",
       "    <tr>\n",
       "      <th>1</th>\n",
       "      <td>1</td>\n",
       "      <td>38.0</td>\n",
       "      <td>71.2833</td>\n",
       "      <td>C85</td>\n",
       "      <td>0</td>\n",
       "      <td>0</td>\n",
       "      <td>0</td>\n",
       "      <td>1</td>\n",
       "      <td>0</td>\n",
       "      <td>0</td>\n",
       "      <td>2</td>\n",
       "      <td>0</td>\n",
       "    </tr>\n",
       "    <tr>\n",
       "      <th>2</th>\n",
       "      <td>3</td>\n",
       "      <td>26.0</td>\n",
       "      <td>7.9250</td>\n",
       "      <td>No_Cabin</td>\n",
       "      <td>0</td>\n",
       "      <td>1</td>\n",
       "      <td>0</td>\n",
       "      <td>1</td>\n",
       "      <td>0</td>\n",
       "      <td>0</td>\n",
       "      <td>1</td>\n",
       "      <td>1</td>\n",
       "    </tr>\n",
       "    <tr>\n",
       "      <th>3</th>\n",
       "      <td>1</td>\n",
       "      <td>35.0</td>\n",
       "      <td>53.1000</td>\n",
       "      <td>C123</td>\n",
       "      <td>0</td>\n",
       "      <td>1</td>\n",
       "      <td>0</td>\n",
       "      <td>1</td>\n",
       "      <td>0</td>\n",
       "      <td>0</td>\n",
       "      <td>2</td>\n",
       "      <td>0</td>\n",
       "    </tr>\n",
       "    <tr>\n",
       "      <th>4</th>\n",
       "      <td>3</td>\n",
       "      <td>35.0</td>\n",
       "      <td>8.0500</td>\n",
       "      <td>No_Cabin</td>\n",
       "      <td>0</td>\n",
       "      <td>1</td>\n",
       "      <td>1</td>\n",
       "      <td>0</td>\n",
       "      <td>0</td>\n",
       "      <td>1</td>\n",
       "      <td>1</td>\n",
       "      <td>1</td>\n",
       "    </tr>\n",
       "    <tr>\n",
       "      <th>...</th>\n",
       "      <td>...</td>\n",
       "      <td>...</td>\n",
       "      <td>...</td>\n",
       "      <td>...</td>\n",
       "      <td>...</td>\n",
       "      <td>...</td>\n",
       "      <td>...</td>\n",
       "      <td>...</td>\n",
       "      <td>...</td>\n",
       "      <td>...</td>\n",
       "      <td>...</td>\n",
       "      <td>...</td>\n",
       "    </tr>\n",
       "    <tr>\n",
       "      <th>886</th>\n",
       "      <td>2</td>\n",
       "      <td>27.0</td>\n",
       "      <td>13.0000</td>\n",
       "      <td>No_Cabin</td>\n",
       "      <td>0</td>\n",
       "      <td>1</td>\n",
       "      <td>1</td>\n",
       "      <td>0</td>\n",
       "      <td>1</td>\n",
       "      <td>0</td>\n",
       "      <td>1</td>\n",
       "      <td>1</td>\n",
       "    </tr>\n",
       "    <tr>\n",
       "      <th>887</th>\n",
       "      <td>1</td>\n",
       "      <td>19.0</td>\n",
       "      <td>30.0000</td>\n",
       "      <td>B42</td>\n",
       "      <td>0</td>\n",
       "      <td>1</td>\n",
       "      <td>0</td>\n",
       "      <td>1</td>\n",
       "      <td>0</td>\n",
       "      <td>0</td>\n",
       "      <td>1</td>\n",
       "      <td>1</td>\n",
       "    </tr>\n",
       "    <tr>\n",
       "      <th>888</th>\n",
       "      <td>3</td>\n",
       "      <td>28.0</td>\n",
       "      <td>23.4500</td>\n",
       "      <td>No_Cabin</td>\n",
       "      <td>0</td>\n",
       "      <td>1</td>\n",
       "      <td>0</td>\n",
       "      <td>1</td>\n",
       "      <td>0</td>\n",
       "      <td>0</td>\n",
       "      <td>4</td>\n",
       "      <td>0</td>\n",
       "    </tr>\n",
       "    <tr>\n",
       "      <th>889</th>\n",
       "      <td>1</td>\n",
       "      <td>26.0</td>\n",
       "      <td>30.0000</td>\n",
       "      <td>C148</td>\n",
       "      <td>0</td>\n",
       "      <td>0</td>\n",
       "      <td>1</td>\n",
       "      <td>0</td>\n",
       "      <td>0</td>\n",
       "      <td>1</td>\n",
       "      <td>1</td>\n",
       "      <td>1</td>\n",
       "    </tr>\n",
       "    <tr>\n",
       "      <th>890</th>\n",
       "      <td>3</td>\n",
       "      <td>32.0</td>\n",
       "      <td>7.7500</td>\n",
       "      <td>No_Cabin</td>\n",
       "      <td>1</td>\n",
       "      <td>0</td>\n",
       "      <td>1</td>\n",
       "      <td>0</td>\n",
       "      <td>0</td>\n",
       "      <td>1</td>\n",
       "      <td>1</td>\n",
       "      <td>1</td>\n",
       "    </tr>\n",
       "  </tbody>\n",
       "</table>\n",
       "<p>891 rows × 12 columns</p>\n",
       "</div>"
      ],
      "text/plain": [
       "     Pclass   Age     Fare     Cabin  Q_emb  S_emb  male  female_titles  \\\n",
       "0         3  22.0   7.2500  No_Cabin      0      1     1              0   \n",
       "1         1  38.0  71.2833       C85      0      0     0              1   \n",
       "2         3  26.0   7.9250  No_Cabin      0      1     0              1   \n",
       "3         1  35.0  53.1000      C123      0      1     0              1   \n",
       "4         3  35.0   8.0500  No_Cabin      0      1     1              0   \n",
       "..      ...   ...      ...       ...    ...    ...   ...            ...   \n",
       "886       2  27.0  13.0000  No_Cabin      0      1     1              0   \n",
       "887       1  19.0  30.0000       B42      0      1     0              1   \n",
       "888       3  28.0  23.4500  No_Cabin      0      1     0              1   \n",
       "889       1  26.0  30.0000      C148      0      0     1              0   \n",
       "890       3  32.0   7.7500  No_Cabin      1      0     1              0   \n",
       "\n",
       "     gender_neutral_titles  male_titles  Family_size  Alone  \n",
       "0                        0            1            2      0  \n",
       "1                        0            0            2      0  \n",
       "2                        0            0            1      1  \n",
       "3                        0            0            2      0  \n",
       "4                        0            1            1      1  \n",
       "..                     ...          ...          ...    ...  \n",
       "886                      1            0            1      1  \n",
       "887                      0            0            1      1  \n",
       "888                      0            0            4      0  \n",
       "889                      0            1            1      1  \n",
       "890                      0            1            1      1  \n",
       "\n",
       "[891 rows x 12 columns]"
      ]
     },
     "execution_count": 48,
     "metadata": {},
     "output_type": "execute_result"
    }
   ],
   "source": [
    "X"
   ]
  },
  {
   "cell_type": "code",
   "execution_count": 49,
   "id": "b24c8de3",
   "metadata": {
    "execution": {
     "iopub.execute_input": "2024-12-05T08:49:12.307243Z",
     "iopub.status.busy": "2024-12-05T08:49:12.306862Z",
     "iopub.status.idle": "2024-12-05T08:49:12.312685Z",
     "shell.execute_reply": "2024-12-05T08:49:12.311655Z"
    },
    "papermill": {
     "duration": 0.026445,
     "end_time": "2024-12-05T08:49:12.314929",
     "exception": false,
     "start_time": "2024-12-05T08:49:12.288484",
     "status": "completed"
    },
    "tags": []
   },
   "outputs": [],
   "source": [
    "X['Fare']=np.where(X['Fare']>263, 263, X['Fare'])"
   ]
  },
  {
   "cell_type": "code",
   "execution_count": 50,
   "id": "5636743d",
   "metadata": {
    "execution": {
     "iopub.execute_input": "2024-12-05T08:49:12.351556Z",
     "iopub.status.busy": "2024-12-05T08:49:12.351210Z",
     "iopub.status.idle": "2024-12-05T08:49:12.357246Z",
     "shell.execute_reply": "2024-12-05T08:49:12.356262Z"
    },
    "papermill": {
     "duration": 0.027201,
     "end_time": "2024-12-05T08:49:12.359416",
     "exception": false,
     "start_time": "2024-12-05T08:49:12.332215",
     "status": "completed"
    },
    "tags": []
   },
   "outputs": [],
   "source": [
    "X['Fare']=np.log(X['Fare'])\n",
    "test_df['Fare']=np.log(test_df['Fare'])"
   ]
  },
  {
   "cell_type": "code",
   "execution_count": 51,
   "id": "f2cd93fe",
   "metadata": {
    "execution": {
     "iopub.execute_input": "2024-12-05T08:49:12.396761Z",
     "iopub.status.busy": "2024-12-05T08:49:12.395795Z",
     "iopub.status.idle": "2024-12-05T08:49:12.407980Z",
     "shell.execute_reply": "2024-12-05T08:49:12.406812Z"
    },
    "papermill": {
     "duration": 0.032802,
     "end_time": "2024-12-05T08:49:12.410398",
     "exception": false,
     "start_time": "2024-12-05T08:49:12.377596",
     "status": "completed"
    },
    "tags": []
   },
   "outputs": [
    {
     "data": {
      "text/plain": [
       "count    891.000000\n",
       "mean      29.361582\n",
       "std       13.019697\n",
       "min        0.420000\n",
       "25%       22.000000\n",
       "50%       28.000000\n",
       "75%       35.000000\n",
       "max       80.000000\n",
       "Name: Age, dtype: float64"
      ]
     },
     "execution_count": 51,
     "metadata": {},
     "output_type": "execute_result"
    }
   ],
   "source": [
    "X['Age'].describe()"
   ]
  },
  {
   "cell_type": "code",
   "execution_count": 52,
   "id": "917ff5a9",
   "metadata": {
    "execution": {
     "iopub.execute_input": "2024-12-05T08:49:12.448065Z",
     "iopub.status.busy": "2024-12-05T08:49:12.447080Z",
     "iopub.status.idle": "2024-12-05T08:49:12.868316Z",
     "shell.execute_reply": "2024-12-05T08:49:12.867195Z"
    },
    "papermill": {
     "duration": 0.442706,
     "end_time": "2024-12-05T08:49:12.871165",
     "exception": false,
     "start_time": "2024-12-05T08:49:12.428459",
     "status": "completed"
    },
    "tags": []
   },
   "outputs": [
    {
     "name": "stderr",
     "output_type": "stream",
     "text": [
      "/opt/conda/lib/python3.10/site-packages/seaborn/_oldcore.py:1119: FutureWarning: use_inf_as_na option is deprecated and will be removed in a future version. Convert inf values to NaN before operating instead.\n",
      "  with pd.option_context('mode.use_inf_as_na', True):\n"
     ]
    },
    {
     "data": {
      "text/plain": [
       "<Axes: xlabel='Age', ylabel='Density'>"
      ]
     },
     "execution_count": 52,
     "metadata": {},
     "output_type": "execute_result"
    },
    {
     "data": {
      "image/png": "[encoded data removed]",
      "text/plain": [
       "<Figure size 640x480 with 1 Axes>"
      ]
     },
     "metadata": {},
     "output_type": "display_data"
    }
   ],
   "source": [
    "sns.kdeplot(X['Age'])"
   ]
  },
  {
   "cell_type": "code",
   "execution_count": 53,
   "id": "72570b87",
   "metadata": {
    "execution": {
     "iopub.execute_input": "2024-12-05T08:49:12.908606Z",
     "iopub.status.busy": "2024-12-05T08:49:12.908274Z",
     "iopub.status.idle": "2024-12-05T08:49:12.915931Z",
     "shell.execute_reply": "2024-12-05T08:49:12.914962Z"
    },
    "papermill": {
     "duration": 0.028688,
     "end_time": "2024-12-05T08:49:12.918042",
     "exception": false,
     "start_time": "2024-12-05T08:49:12.889354",
     "status": "completed"
    },
    "tags": []
   },
   "outputs": [
    {
     "data": {
      "text/plain": [
       "0.5102446555756495"
      ]
     },
     "execution_count": 53,
     "metadata": {},
     "output_type": "execute_result"
    }
   ],
   "source": [
    "X['Age'].skew()"
   ]
  },
  {
   "cell_type": "code",
   "execution_count": 54,
   "id": "fa838374",
   "metadata": {
    "execution": {
     "iopub.execute_input": "2024-12-05T08:49:12.956492Z",
     "iopub.status.busy": "2024-12-05T08:49:12.956132Z",
     "iopub.status.idle": "2024-12-05T08:49:12.965417Z",
     "shell.execute_reply": "2024-12-05T08:49:12.964370Z"
    },
    "papermill": {
     "duration": 0.03125,
     "end_time": "2024-12-05T08:49:12.967708",
     "exception": false,
     "start_time": "2024-12-05T08:49:12.936458",
     "status": "completed"
    },
    "tags": []
   },
   "outputs": [],
   "source": [
    "mini=X['Age'].quantile(0.25)\n",
    "maxi=X['Age'].quantile(0.75)\n",
    "iqr=maxi-mini\n",
    "X['Age']=np.where(X['Age']>=55, 55, X['Age'])"
   ]
  },
  {
   "cell_type": "code",
   "execution_count": 55,
   "id": "998b6027",
   "metadata": {
    "execution": {
     "iopub.execute_input": "2024-12-05T08:49:13.007132Z",
     "iopub.status.busy": "2024-12-05T08:49:13.006760Z",
     "iopub.status.idle": "2024-12-05T08:49:13.019349Z",
     "shell.execute_reply": "2024-12-05T08:49:13.018079Z"
    },
    "papermill": {
     "duration": 0.035338,
     "end_time": "2024-12-05T08:49:13.021953",
     "exception": false,
     "start_time": "2024-12-05T08:49:12.986615",
     "status": "completed"
    },
    "tags": []
   },
   "outputs": [
    {
     "data": {
      "text/plain": [
       "count    891.000000\n",
       "mean      29.031616\n",
       "std       12.192336\n",
       "min        0.420000\n",
       "25%       22.000000\n",
       "50%       28.000000\n",
       "75%       35.000000\n",
       "max       55.000000\n",
       "Name: Age, dtype: float64"
      ]
     },
     "execution_count": 55,
     "metadata": {},
     "output_type": "execute_result"
    }
   ],
   "source": [
    "X[\"Age\"].describe()"
   ]
  },
  {
   "cell_type": "code",
   "execution_count": 56,
   "id": "83eeba16",
   "metadata": {
    "execution": {
     "iopub.execute_input": "2024-12-05T08:49:13.060952Z",
     "iopub.status.busy": "2024-12-05T08:49:13.060546Z",
     "iopub.status.idle": "2024-12-05T08:49:13.286284Z",
     "shell.execute_reply": "2024-12-05T08:49:13.285067Z"
    },
    "papermill": {
     "duration": 0.247375,
     "end_time": "2024-12-05T08:49:13.288477",
     "exception": false,
     "start_time": "2024-12-05T08:49:13.041102",
     "status": "completed"
    },
    "tags": []
   },
   "outputs": [
    {
     "name": "stderr",
     "output_type": "stream",
     "text": [
      "/opt/conda/lib/python3.10/site-packages/seaborn/_oldcore.py:1119: FutureWarning: use_inf_as_na option is deprecated and will be removed in a future version. Convert inf values to NaN before operating instead.\n",
      "  with pd.option_context('mode.use_inf_as_na', True):\n"
     ]
    },
    {
     "data": {
      "text/plain": [
       "<Axes: xlabel='Age', ylabel='Count'>"
      ]
     },
     "execution_count": 56,
     "metadata": {},
     "output_type": "execute_result"
    },
    {
     "data": {
      "image/png": "[encoded data removed]",
      "text/plain": [
       "<Figure size 640x480 with 1 Axes>"
      ]
     },
     "metadata": {},
     "output_type": "display_data"
    }
   ],
   "source": [
    "sns.histplot(X['Age'])"
   ]
  },
  {
   "cell_type": "code",
   "execution_count": 57,
   "id": "99d05bd1",
   "metadata": {
    "execution": {
     "iopub.execute_input": "2024-12-05T08:49:13.327137Z",
     "iopub.status.busy": "2024-12-05T08:49:13.326296Z",
     "iopub.status.idle": "2024-12-05T08:49:13.330694Z",
     "shell.execute_reply": "2024-12-05T08:49:13.329663Z"
    },
    "papermill": {
     "duration": 0.0261,
     "end_time": "2024-12-05T08:49:13.333069",
     "exception": false,
     "start_time": "2024-12-05T08:49:13.306969",
     "status": "completed"
    },
    "tags": []
   },
   "outputs": [],
   "source": [
    "#X['Age']=np.log(X['Age'])\n",
    "#test_df['Age']=np.log(test_df['Age'])"
   ]
  },
  {
   "cell_type": "code",
   "execution_count": 58,
   "id": "8ded0374",
   "metadata": {
    "execution": {
     "iopub.execute_input": "2024-12-05T08:49:13.371981Z",
     "iopub.status.busy": "2024-12-05T08:49:13.371624Z",
     "iopub.status.idle": "2024-12-05T08:49:13.376579Z",
     "shell.execute_reply": "2024-12-05T08:49:13.375585Z"
    },
    "papermill": {
     "duration": 0.02654,
     "end_time": "2024-12-05T08:49:13.378681",
     "exception": false,
     "start_time": "2024-12-05T08:49:13.352141",
     "status": "completed"
    },
    "tags": []
   },
   "outputs": [],
   "source": [
    "pd.set_option('display.max_rows', 500)"
   ]
  },
  {
   "cell_type": "code",
   "execution_count": 59,
   "id": "48660eb5",
   "metadata": {
    "execution": {
     "iopub.execute_input": "2024-12-05T08:49:13.419298Z",
     "iopub.status.busy": "2024-12-05T08:49:13.418951Z",
     "iopub.status.idle": "2024-12-05T08:49:13.426829Z",
     "shell.execute_reply": "2024-12-05T08:49:13.425857Z"
    },
    "papermill": {
     "duration": 0.03151,
     "end_time": "2024-12-05T08:49:13.428955",
     "exception": false,
     "start_time": "2024-12-05T08:49:13.397445",
     "status": "completed"
    },
    "tags": []
   },
   "outputs": [],
   "source": [
    "def cab_trans(X):\n",
    "    cabins=[]\n",
    "    tot=['A', 'B', 'C', 'D', 'E', 'F', 'G', 'N', 'T']\n",
    "    for i in range(len(X)):\n",
    "        for j in range(1):\n",
    "            cabins.append(X['Cabin'][i][j])\n",
    "    for i in cabins:\n",
    "        if i in tot:\n",
    "            tot.remove(i)\n",
    "    cabins=pd.DataFrame({'Cabin_name': cabins})\n",
    "    dummies=pd.get_dummies(cabins['Cabin_name'], dtype=int)\n",
    "\n",
    "    X=pd.concat([X, dummies], axis=1)\n",
    "    for i in tot:\n",
    "        new=pd.DataFrame({i: np.zeros(len(X), dtype=int)})\n",
    "        X=pd.concat([X, new], axis=1)\n",
    "    X.drop('Cabin', axis=1, inplace=True)\n",
    "    return X"
   ]
  },
  {
   "cell_type": "code",
   "execution_count": 60,
   "id": "8d8cdf0f",
   "metadata": {
    "execution": {
     "iopub.execute_input": "2024-12-05T08:49:13.467323Z",
     "iopub.status.busy": "2024-12-05T08:49:13.466955Z",
     "iopub.status.idle": "2024-12-05T08:49:13.487155Z",
     "shell.execute_reply": "2024-12-05T08:49:13.486350Z"
    },
    "papermill": {
     "duration": 0.042097,
     "end_time": "2024-12-05T08:49:13.489520",
     "exception": false,
     "start_time": "2024-12-05T08:49:13.447423",
     "status": "completed"
    },
    "tags": []
   },
   "outputs": [],
   "source": [
    "X=cab_trans(X)\n",
    "test_df=cab_trans(test_df)"
   ]
  },
  {
   "cell_type": "code",
   "execution_count": 61,
   "id": "75a15d2b",
   "metadata": {
    "execution": {
     "iopub.execute_input": "2024-12-05T08:49:13.528096Z",
     "iopub.status.busy": "2024-12-05T08:49:13.527733Z",
     "iopub.status.idle": "2024-12-05T08:49:13.534438Z",
     "shell.execute_reply": "2024-12-05T08:49:13.533328Z"
    },
    "papermill": {
     "duration": 0.028516,
     "end_time": "2024-12-05T08:49:13.536570",
     "exception": false,
     "start_time": "2024-12-05T08:49:13.508054",
     "status": "completed"
    },
    "tags": []
   },
   "outputs": [
    {
     "data": {
      "text/plain": [
       "(891, 20)"
      ]
     },
     "execution_count": 61,
     "metadata": {},
     "output_type": "execute_result"
    }
   ],
   "source": [
    "X.shape"
   ]
  },
  {
   "cell_type": "code",
   "execution_count": 62,
   "id": "ca57147c",
   "metadata": {
    "execution": {
     "iopub.execute_input": "2024-12-05T08:49:13.576010Z",
     "iopub.status.busy": "2024-12-05T08:49:13.575611Z",
     "iopub.status.idle": "2024-12-05T08:49:13.590533Z",
     "shell.execute_reply": "2024-12-05T08:49:13.589534Z"
    },
    "papermill": {
     "duration": 0.036936,
     "end_time": "2024-12-05T08:49:13.592554",
     "exception": false,
     "start_time": "2024-12-05T08:49:13.555618",
     "status": "completed"
    },
    "tags": []
   },
   "outputs": [
    {
     "data": {
      "text/html": [
       "<div>\n",
       "<style scoped>\n",
       "    .dataframe tbody tr th:only-of-type {\n",
       "        vertical-align: middle;\n",
       "    }\n",
       "\n",
       "    .dataframe tbody tr th {\n",
       "        vertical-align: top;\n",
       "    }\n",
       "\n",
       "    .dataframe thead th {\n",
       "        text-align: right;\n",
       "    }\n",
       "</style>\n",
       "<table border=\"1\" class=\"dataframe\">\n",
       "  <thead>\n",
       "    <tr style=\"text-align: right;\">\n",
       "      <th></th>\n",
       "      <th>Pclass</th>\n",
       "      <th>Age</th>\n",
       "      <th>Fare</th>\n",
       "      <th>Q_emb</th>\n",
       "      <th>S_emb</th>\n",
       "      <th>male</th>\n",
       "      <th>female_titles</th>\n",
       "      <th>gender_neutral_titles</th>\n",
       "      <th>male_titles</th>\n",
       "      <th>Family_size</th>\n",
       "      <th>Alone</th>\n",
       "      <th>A</th>\n",
       "      <th>B</th>\n",
       "      <th>C</th>\n",
       "      <th>D</th>\n",
       "      <th>E</th>\n",
       "      <th>F</th>\n",
       "      <th>G</th>\n",
       "      <th>N</th>\n",
       "      <th>T</th>\n",
       "    </tr>\n",
       "  </thead>\n",
       "  <tbody>\n",
       "    <tr>\n",
       "      <th>0</th>\n",
       "      <td>3</td>\n",
       "      <td>34.5</td>\n",
       "      <td>2.057860</td>\n",
       "      <td>1</td>\n",
       "      <td>0</td>\n",
       "      <td>1</td>\n",
       "      <td>0</td>\n",
       "      <td>0</td>\n",
       "      <td>1</td>\n",
       "      <td>1</td>\n",
       "      <td>1</td>\n",
       "      <td>0</td>\n",
       "      <td>0</td>\n",
       "      <td>0</td>\n",
       "      <td>0</td>\n",
       "      <td>0</td>\n",
       "      <td>0</td>\n",
       "      <td>0</td>\n",
       "      <td>1</td>\n",
       "      <td>0</td>\n",
       "    </tr>\n",
       "    <tr>\n",
       "      <th>1</th>\n",
       "      <td>3</td>\n",
       "      <td>47.0</td>\n",
       "      <td>1.945910</td>\n",
       "      <td>0</td>\n",
       "      <td>1</td>\n",
       "      <td>0</td>\n",
       "      <td>1</td>\n",
       "      <td>0</td>\n",
       "      <td>0</td>\n",
       "      <td>2</td>\n",
       "      <td>0</td>\n",
       "      <td>0</td>\n",
       "      <td>0</td>\n",
       "      <td>0</td>\n",
       "      <td>0</td>\n",
       "      <td>0</td>\n",
       "      <td>0</td>\n",
       "      <td>0</td>\n",
       "      <td>1</td>\n",
       "      <td>0</td>\n",
       "    </tr>\n",
       "    <tr>\n",
       "      <th>2</th>\n",
       "      <td>2</td>\n",
       "      <td>62.0</td>\n",
       "      <td>2.270836</td>\n",
       "      <td>1</td>\n",
       "      <td>0</td>\n",
       "      <td>1</td>\n",
       "      <td>0</td>\n",
       "      <td>0</td>\n",
       "      <td>1</td>\n",
       "      <td>1</td>\n",
       "      <td>1</td>\n",
       "      <td>0</td>\n",
       "      <td>0</td>\n",
       "      <td>0</td>\n",
       "      <td>0</td>\n",
       "      <td>0</td>\n",
       "      <td>0</td>\n",
       "      <td>0</td>\n",
       "      <td>1</td>\n",
       "      <td>0</td>\n",
       "    </tr>\n",
       "    <tr>\n",
       "      <th>3</th>\n",
       "      <td>3</td>\n",
       "      <td>27.0</td>\n",
       "      <td>2.159003</td>\n",
       "      <td>0</td>\n",
       "      <td>1</td>\n",
       "      <td>1</td>\n",
       "      <td>0</td>\n",
       "      <td>0</td>\n",
       "      <td>1</td>\n",
       "      <td>1</td>\n",
       "      <td>1</td>\n",
       "      <td>0</td>\n",
       "      <td>0</td>\n",
       "      <td>0</td>\n",
       "      <td>0</td>\n",
       "      <td>0</td>\n",
       "      <td>0</td>\n",
       "      <td>0</td>\n",
       "      <td>1</td>\n",
       "      <td>0</td>\n",
       "    </tr>\n",
       "    <tr>\n",
       "      <th>4</th>\n",
       "      <td>3</td>\n",
       "      <td>22.0</td>\n",
       "      <td>2.508582</td>\n",
       "      <td>0</td>\n",
       "      <td>1</td>\n",
       "      <td>0</td>\n",
       "      <td>1</td>\n",
       "      <td>0</td>\n",
       "      <td>0</td>\n",
       "      <td>3</td>\n",
       "      <td>0</td>\n",
       "      <td>0</td>\n",
       "      <td>0</td>\n",
       "      <td>0</td>\n",
       "      <td>0</td>\n",
       "      <td>0</td>\n",
       "      <td>0</td>\n",
       "      <td>0</td>\n",
       "      <td>1</td>\n",
       "      <td>0</td>\n",
       "    </tr>\n",
       "  </tbody>\n",
       "</table>\n",
       "</div>"
      ],
      "text/plain": [
       "   Pclass   Age      Fare  Q_emb  S_emb  male  female_titles  \\\n",
       "0       3  34.5  2.057860      1      0     1              0   \n",
       "1       3  47.0  1.945910      0      1     0              1   \n",
       "2       2  62.0  2.270836      1      0     1              0   \n",
       "3       3  27.0  2.159003      0      1     1              0   \n",
       "4       3  22.0  2.508582      0      1     0              1   \n",
       "\n",
       "   gender_neutral_titles  male_titles  Family_size  Alone  A  B  C  D  E  F  \\\n",
       "0                      0            1            1      1  0  0  0  0  0  0   \n",
       "1                      0            0            2      0  0  0  0  0  0  0   \n",
       "2                      0            1            1      1  0  0  0  0  0  0   \n",
       "3                      0            1            1      1  0  0  0  0  0  0   \n",
       "4                      0            0            3      0  0  0  0  0  0  0   \n",
       "\n",
       "   G  N  T  \n",
       "0  0  1  0  \n",
       "1  0  1  0  \n",
       "2  0  1  0  \n",
       "3  0  1  0  \n",
       "4  0  1  0  "
      ]
     },
     "execution_count": 62,
     "metadata": {},
     "output_type": "execute_result"
    }
   ],
   "source": [
    "test_df.head()"
   ]
  },
  {
   "cell_type": "code",
   "execution_count": 63,
   "id": "f773a316",
   "metadata": {
    "execution": {
     "iopub.execute_input": "2024-12-05T08:49:13.632587Z",
     "iopub.status.busy": "2024-12-05T08:49:13.632252Z",
     "iopub.status.idle": "2024-12-05T08:49:14.120941Z",
     "shell.execute_reply": "2024-12-05T08:49:14.119709Z"
    },
    "papermill": {
     "duration": 0.512373,
     "end_time": "2024-12-05T08:49:14.123525",
     "exception": false,
     "start_time": "2024-12-05T08:49:13.611152",
     "status": "completed"
    },
    "tags": []
   },
   "outputs": [],
   "source": [
    "from sklearn.model_selection import train_test_split\n",
    "from sklearn.feature_selection import SelectKBest, chi2"
   ]
  },
  {
   "cell_type": "code",
   "execution_count": 64,
   "id": "3db50179",
   "metadata": {
    "execution": {
     "iopub.execute_input": "2024-12-05T08:49:14.179506Z",
     "iopub.status.busy": "2024-12-05T08:49:14.179133Z",
     "iopub.status.idle": "2024-12-05T08:49:14.184122Z",
     "shell.execute_reply": "2024-12-05T08:49:14.182899Z"
    },
    "papermill": {
     "duration": 0.040731,
     "end_time": "2024-12-05T08:49:14.186302",
     "exception": false,
     "start_time": "2024-12-05T08:49:14.145571",
     "status": "completed"
    },
    "tags": []
   },
   "outputs": [],
   "source": [
    "#X.drop(columns=['gender_neutral_titles'], inplace=True)\n",
    "#test_df.drop(columns=['gender_neutral_titles'], inplace=True)"
   ]
  },
  {
   "cell_type": "code",
   "execution_count": 65,
   "id": "ed0009eb",
   "metadata": {
    "execution": {
     "iopub.execute_input": "2024-12-05T08:49:14.228526Z",
     "iopub.status.busy": "2024-12-05T08:49:14.228066Z",
     "iopub.status.idle": "2024-12-05T08:49:14.250089Z",
     "shell.execute_reply": "2024-12-05T08:49:14.248902Z"
    },
    "papermill": {
     "duration": 0.045642,
     "end_time": "2024-12-05T08:49:14.252422",
     "exception": false,
     "start_time": "2024-12-05T08:49:14.206780",
     "status": "completed"
    },
    "tags": []
   },
   "outputs": [
    {
     "data": {
      "text/html": [
       "<div>\n",
       "<style scoped>\n",
       "    .dataframe tbody tr th:only-of-type {\n",
       "        vertical-align: middle;\n",
       "    }\n",
       "\n",
       "    .dataframe tbody tr th {\n",
       "        vertical-align: top;\n",
       "    }\n",
       "\n",
       "    .dataframe thead th {\n",
       "        text-align: right;\n",
       "    }\n",
       "</style>\n",
       "<table border=\"1\" class=\"dataframe\">\n",
       "  <thead>\n",
       "    <tr style=\"text-align: right;\">\n",
       "      <th></th>\n",
       "      <th>Pclass</th>\n",
       "      <th>Age</th>\n",
       "      <th>Fare</th>\n",
       "      <th>Q_emb</th>\n",
       "      <th>S_emb</th>\n",
       "      <th>male</th>\n",
       "      <th>female_titles</th>\n",
       "      <th>gender_neutral_titles</th>\n",
       "      <th>male_titles</th>\n",
       "      <th>Family_size</th>\n",
       "      <th>Alone</th>\n",
       "      <th>A</th>\n",
       "      <th>B</th>\n",
       "      <th>C</th>\n",
       "      <th>D</th>\n",
       "      <th>E</th>\n",
       "      <th>F</th>\n",
       "      <th>G</th>\n",
       "      <th>N</th>\n",
       "      <th>T</th>\n",
       "    </tr>\n",
       "  </thead>\n",
       "  <tbody>\n",
       "    <tr>\n",
       "      <th>0</th>\n",
       "      <td>3</td>\n",
       "      <td>22.0</td>\n",
       "      <td>1.981001</td>\n",
       "      <td>0</td>\n",
       "      <td>1</td>\n",
       "      <td>1</td>\n",
       "      <td>0</td>\n",
       "      <td>0</td>\n",
       "      <td>1</td>\n",
       "      <td>2</td>\n",
       "      <td>0</td>\n",
       "      <td>0</td>\n",
       "      <td>0</td>\n",
       "      <td>0</td>\n",
       "      <td>0</td>\n",
       "      <td>0</td>\n",
       "      <td>0</td>\n",
       "      <td>0</td>\n",
       "      <td>1</td>\n",
       "      <td>0</td>\n",
       "    </tr>\n",
       "    <tr>\n",
       "      <th>1</th>\n",
       "      <td>1</td>\n",
       "      <td>38.0</td>\n",
       "      <td>4.266662</td>\n",
       "      <td>0</td>\n",
       "      <td>0</td>\n",
       "      <td>0</td>\n",
       "      <td>1</td>\n",
       "      <td>0</td>\n",
       "      <td>0</td>\n",
       "      <td>2</td>\n",
       "      <td>0</td>\n",
       "      <td>0</td>\n",
       "      <td>0</td>\n",
       "      <td>1</td>\n",
       "      <td>0</td>\n",
       "      <td>0</td>\n",
       "      <td>0</td>\n",
       "      <td>0</td>\n",
       "      <td>0</td>\n",
       "      <td>0</td>\n",
       "    </tr>\n",
       "    <tr>\n",
       "      <th>2</th>\n",
       "      <td>3</td>\n",
       "      <td>26.0</td>\n",
       "      <td>2.070022</td>\n",
       "      <td>0</td>\n",
       "      <td>1</td>\n",
       "      <td>0</td>\n",
       "      <td>1</td>\n",
       "      <td>0</td>\n",
       "      <td>0</td>\n",
       "      <td>1</td>\n",
       "      <td>1</td>\n",
       "      <td>0</td>\n",
       "      <td>0</td>\n",
       "      <td>0</td>\n",
       "      <td>0</td>\n",
       "      <td>0</td>\n",
       "      <td>0</td>\n",
       "      <td>0</td>\n",
       "      <td>1</td>\n",
       "      <td>0</td>\n",
       "    </tr>\n",
       "    <tr>\n",
       "      <th>3</th>\n",
       "      <td>1</td>\n",
       "      <td>35.0</td>\n",
       "      <td>3.972177</td>\n",
       "      <td>0</td>\n",
       "      <td>1</td>\n",
       "      <td>0</td>\n",
       "      <td>1</td>\n",
       "      <td>0</td>\n",
       "      <td>0</td>\n",
       "      <td>2</td>\n",
       "      <td>0</td>\n",
       "      <td>0</td>\n",
       "      <td>0</td>\n",
       "      <td>1</td>\n",
       "      <td>0</td>\n",
       "      <td>0</td>\n",
       "      <td>0</td>\n",
       "      <td>0</td>\n",
       "      <td>0</td>\n",
       "      <td>0</td>\n",
       "    </tr>\n",
       "    <tr>\n",
       "      <th>4</th>\n",
       "      <td>3</td>\n",
       "      <td>35.0</td>\n",
       "      <td>2.085672</td>\n",
       "      <td>0</td>\n",
       "      <td>1</td>\n",
       "      <td>1</td>\n",
       "      <td>0</td>\n",
       "      <td>0</td>\n",
       "      <td>1</td>\n",
       "      <td>1</td>\n",
       "      <td>1</td>\n",
       "      <td>0</td>\n",
       "      <td>0</td>\n",
       "      <td>0</td>\n",
       "      <td>0</td>\n",
       "      <td>0</td>\n",
       "      <td>0</td>\n",
       "      <td>0</td>\n",
       "      <td>1</td>\n",
       "      <td>0</td>\n",
       "    </tr>\n",
       "  </tbody>\n",
       "</table>\n",
       "</div>"
      ],
      "text/plain": [
       "   Pclass   Age      Fare  Q_emb  S_emb  male  female_titles  \\\n",
       "0       3  22.0  1.981001      0      1     1              0   \n",
       "1       1  38.0  4.266662      0      0     0              1   \n",
       "2       3  26.0  2.070022      0      1     0              1   \n",
       "3       1  35.0  3.972177      0      1     0              1   \n",
       "4       3  35.0  2.085672      0      1     1              0   \n",
       "\n",
       "   gender_neutral_titles  male_titles  Family_size  Alone  A  B  C  D  E  F  \\\n",
       "0                      0            1            2      0  0  0  0  0  0  0   \n",
       "1                      0            0            2      0  0  0  1  0  0  0   \n",
       "2                      0            0            1      1  0  0  0  0  0  0   \n",
       "3                      0            0            2      0  0  0  1  0  0  0   \n",
       "4                      0            1            1      1  0  0  0  0  0  0   \n",
       "\n",
       "   G  N  T  \n",
       "0  0  1  0  \n",
       "1  0  0  0  \n",
       "2  0  1  0  \n",
       "3  0  0  0  \n",
       "4  0  1  0  "
      ]
     },
     "execution_count": 65,
     "metadata": {},
     "output_type": "execute_result"
    }
   ],
   "source": [
    "X.head()"
   ]
  },
  {
   "cell_type": "code",
   "execution_count": 66,
   "id": "3d71d2e0",
   "metadata": {
    "execution": {
     "iopub.execute_input": "2024-12-05T08:49:14.293934Z",
     "iopub.status.busy": "2024-12-05T08:49:14.293537Z",
     "iopub.status.idle": "2024-12-05T08:49:14.301778Z",
     "shell.execute_reply": "2024-12-05T08:49:14.300443Z"
    },
    "papermill": {
     "duration": 0.032009,
     "end_time": "2024-12-05T08:49:14.304545",
     "exception": false,
     "start_time": "2024-12-05T08:49:14.272536",
     "status": "completed"
    },
    "tags": []
   },
   "outputs": [],
   "source": [
    "X_train, X_test, y_train, y_test = train_test_split(X, y, test_size=0.25, random_state=42)"
   ]
  },
  {
   "cell_type": "code",
   "execution_count": 67,
   "id": "7fac7ac5",
   "metadata": {
    "execution": {
     "iopub.execute_input": "2024-12-05T08:49:14.356536Z",
     "iopub.status.busy": "2024-12-05T08:49:14.356103Z",
     "iopub.status.idle": "2024-12-05T08:49:14.374667Z",
     "shell.execute_reply": "2024-12-05T08:49:14.373602Z"
    },
    "papermill": {
     "duration": 0.045552,
     "end_time": "2024-12-05T08:49:14.377369",
     "exception": false,
     "start_time": "2024-12-05T08:49:14.331817",
     "status": "completed"
    },
    "tags": []
   },
   "outputs": [
    {
     "name": "stdout",
     "output_type": "stream",
     "text": [
      "<class 'pandas.core.frame.DataFrame'>\n",
      "Index: 668 entries, 298 to 102\n",
      "Data columns (total 20 columns):\n",
      " #   Column                 Non-Null Count  Dtype  \n",
      "---  ------                 --------------  -----  \n",
      " 0   Pclass                 668 non-null    int64  \n",
      " 1   Age                    668 non-null    float64\n",
      " 2   Fare                   668 non-null    float64\n",
      " 3   Q_emb                  668 non-null    int64  \n",
      " 4   S_emb                  668 non-null    int64  \n",
      " 5   male                   668 non-null    int64  \n",
      " 6   female_titles          668 non-null    int64  \n",
      " 7   gender_neutral_titles  668 non-null    int64  \n",
      " 8   male_titles            668 non-null    int64  \n",
      " 9   Family_size            668 non-null    int64  \n",
      " 10  Alone                  668 non-null    int64  \n",
      " 11  A                      668 non-null    int64  \n",
      " 12  B                      668 non-null    int64  \n",
      " 13  C                      668 non-null    int64  \n",
      " 14  D                      668 non-null    int64  \n",
      " 15  E                      668 non-null    int64  \n",
      " 16  F                      668 non-null    int64  \n",
      " 17  G                      668 non-null    int64  \n",
      " 18  N                      668 non-null    int64  \n",
      " 19  T                      668 non-null    int64  \n",
      "dtypes: float64(2), int64(18)\n",
      "memory usage: 109.6 KB\n"
     ]
    }
   ],
   "source": [
    "X_train.info()"
   ]
  },
  {
   "cell_type": "code",
   "execution_count": 68,
   "id": "004bafc0",
   "metadata": {
    "execution": {
     "iopub.execute_input": "2024-12-05T08:49:14.426747Z",
     "iopub.status.busy": "2024-12-05T08:49:14.426200Z",
     "iopub.status.idle": "2024-12-05T08:49:14.444394Z",
     "shell.execute_reply": "2024-12-05T08:49:14.443056Z"
    },
    "papermill": {
     "duration": 0.046463,
     "end_time": "2024-12-05T08:49:14.448053",
     "exception": false,
     "start_time": "2024-12-05T08:49:14.401590",
     "status": "completed"
    },
    "tags": []
   },
   "outputs": [],
   "source": [
    "from sklearn.preprocessing import StandardScaler\n",
    "scaler=StandardScaler()\n",
    "X_train=scaler.fit_transform(X_train)\n",
    "X_test=scaler.transform(X_test)\n",
    "test_df=scaler.transform(test_df)"
   ]
  },
  {
   "cell_type": "code",
   "execution_count": 69,
   "id": "42aba03a",
   "metadata": {
    "execution": {
     "iopub.execute_input": "2024-12-05T08:49:14.493390Z",
     "iopub.status.busy": "2024-12-05T08:49:14.493024Z",
     "iopub.status.idle": "2024-12-05T08:49:14.500525Z",
     "shell.execute_reply": "2024-12-05T08:49:14.499293Z"
    },
    "papermill": {
     "duration": 0.030599,
     "end_time": "2024-12-05T08:49:14.502733",
     "exception": false,
     "start_time": "2024-12-05T08:49:14.472134",
     "status": "completed"
    },
    "tags": []
   },
   "outputs": [
    {
     "data": {
      "text/plain": [
       "array([[ 0.80934914, -0.06984104, -0.20413744, ..., -0.06716605,\n",
       "         0.53580832, -0.03872015],\n",
       "       [-0.40558395,  0.17406222, -0.60625853, ..., -0.06716605,\n",
       "         0.53580832, -0.03872015],\n",
       "       [ 0.80934914, -0.72024972, -0.90963534, ..., -0.06716605,\n",
       "         0.53580832, -0.03872015],\n",
       "       ...,\n",
       "       [ 0.80934914, -0.06984104, -0.91361564, ..., -0.06716605,\n",
       "         0.53580832, -0.03872015],\n",
       "       [-0.40558395, -0.39504538, -0.37596618, ..., -0.06716605,\n",
       "         0.53580832, -0.03872015],\n",
       "       [ 0.80934914, -0.88285189,  0.09993404, ..., -0.06716605,\n",
       "         0.53580832, -0.03872015]])"
      ]
     },
     "execution_count": 69,
     "metadata": {},
     "output_type": "execute_result"
    }
   ],
   "source": [
    "X_test"
   ]
  },
  {
   "cell_type": "code",
   "execution_count": 70,
   "id": "7a1f5011",
   "metadata": {
    "execution": {
     "iopub.execute_input": "2024-12-05T08:49:14.544467Z",
     "iopub.status.busy": "2024-12-05T08:49:14.544079Z",
     "iopub.status.idle": "2024-12-05T08:49:16.089259Z",
     "shell.execute_reply": "2024-12-05T08:49:16.086573Z"
    },
    "papermill": {
     "duration": 1.568561,
     "end_time": "2024-12-05T08:49:16.091714",
     "exception": false,
     "start_time": "2024-12-05T08:49:14.523153",
     "status": "completed"
    },
    "tags": []
   },
   "outputs": [
    {
     "data": {
      "text/html": [
       "<style>#sk-container-id-1 {color: black;background-color: white;}#sk-container-id-1 pre{padding: 0;}#sk-container-id-1 div.sk-toggleable {background-color: white;}#sk-container-id-1 label.sk-toggleable__label {cursor: pointer;display: block;width: 100%;margin-bottom: 0;padding: 0.3em;box-sizing: border-box;text-align: center;}#sk-container-id-1 label.sk-toggleable__label-arrow:before {content: \"▸\";float: left;margin-right: 0.25em;color: #696969;}#sk-container-id-1 label.sk-toggleable__label-arrow:hover:before {color: black;}#sk-container-id-1 div.sk-estimator:hover label.sk-toggleable__label-arrow:before {color: black;}#sk-container-id-1 div.sk-toggleable__content {max-height: 0;max-width: 0;overflow: hidden;text-align: left;background-color: #f0f8ff;}#sk-container-id-1 div.sk-toggleable__content pre {margin: 0.2em;color: black;border-radius: 0.25em;background-color: #f0f8ff;}#sk-container-id-1 input.sk-toggleable__control:checked~div.sk-toggleable__content {max-height: 200px;max-width: 100%;overflow: auto;}#sk-container-id-1 input.sk-toggleable__control:checked~label.sk-toggleable__label-arrow:before {content: \"▾\";}#sk-container-id-1 div.sk-estimator input.sk-toggleable__control:checked~label.sk-toggleable__label {background-color: #d4ebff;}#sk-container-id-1 div.sk-label input.sk-toggleable__control:checked~label.sk-toggleable__label {background-color: #d4ebff;}#sk-container-id-1 input.sk-hidden--visually {border: 0;clip: rect(1px 1px 1px 1px);clip: rect(1px, 1px, 1px, 1px);height: 1px;margin: -1px;overflow: hidden;padding: 0;position: absolute;width: 1px;}#sk-container-id-1 div.sk-estimator {font-family: monospace;background-color: #f0f8ff;border: 1px dotted black;border-radius: 0.25em;box-sizing: border-box;margin-bottom: 0.5em;}#sk-container-id-1 div.sk-estimator:hover {background-color: #d4ebff;}#sk-container-id-1 div.sk-parallel-item::after {content: \"\";width: 100%;border-bottom: 1px solid gray;flex-grow: 1;}#sk-container-id-1 div.sk-label:hover label.sk-toggleable__label {background-color: #d4ebff;}#sk-container-id-1 div.sk-serial::before {content: \"\";position: absolute;border-left: 1px solid gray;box-sizing: border-box;top: 0;bottom: 0;left: 50%;z-index: 0;}#sk-container-id-1 div.sk-serial {display: flex;flex-direction: column;align-items: center;background-color: white;padding-right: 0.2em;padding-left: 0.2em;position: relative;}#sk-container-id-1 div.sk-item {position: relative;z-index: 1;}#sk-container-id-1 div.sk-parallel {display: flex;align-items: stretch;justify-content: center;background-color: white;position: relative;}#sk-container-id-1 div.sk-item::before, #sk-container-id-1 div.sk-parallel-item::before {content: \"\";position: absolute;border-left: 1px solid gray;box-sizing: border-box;top: 0;bottom: 0;left: 50%;z-index: -1;}#sk-container-id-1 div.sk-parallel-item {display: flex;flex-direction: column;z-index: 1;position: relative;background-color: white;}#sk-container-id-1 div.sk-parallel-item:first-child::after {align-self: flex-end;width: 50%;}#sk-container-id-1 div.sk-parallel-item:last-child::after {align-self: flex-start;width: 50%;}#sk-container-id-1 div.sk-parallel-item:only-child::after {width: 0;}#sk-container-id-1 div.sk-dashed-wrapped {border: 1px dashed gray;margin: 0 0.4em 0.5em 0.4em;box-sizing: border-box;padding-bottom: 0.4em;background-color: white;}#sk-container-id-1 div.sk-label label {font-family: monospace;font-weight: bold;display: inline-block;line-height: 1.2em;}#sk-container-id-1 div.sk-label-container {text-align: center;}#sk-container-id-1 div.sk-container {/* jupyter's `normalize.less` sets `[hidden] { display: none; }` but bootstrap.min.css set `[hidden] { display: none !important; }` so we also need the `!important` here to be able to override the default hidden behavior on the sphinx rendered scikit-learn.org. See: https://github.com/scikit-learn/scikit-learn/issues/21755 */display: inline-block !important;position: relative;}#sk-container-id-1 div.sk-text-repr-fallback {display: none;}</style><div id=\"sk-container-id-1\" class=\"sk-top-container\"><div class=\"sk-text-repr-fallback\"><pre>XGBClassifier(base_score=None, booster=None, callbacks=None,\n",
       "              colsample_bylevel=None, colsample_bynode=None,\n",
       "              colsample_bytree=None, device=None, early_stopping_rounds=None,\n",
       "              enable_categorical=False, eval_metric=None, feature_types=None,\n",
       "              gamma=None, grow_policy=None, importance_type=None,\n",
       "              interaction_constraints=None, learning_rate=0.05, max_bin=None,\n",
       "              max_cat_threshold=None, max_cat_to_onehot=None,\n",
       "              max_delta_step=None, max_depth=None, max_leaves=None,\n",
       "              min_child_weight=None, missing=nan, monotone_constraints=None,\n",
       "              multi_strategy=None, n_estimators=None, n_jobs=None,\n",
       "              num_parallel_tree=None, random_state=None, ...)</pre><b>In a Jupyter environment, please rerun this cell to show the HTML representation or trust the notebook. <br />On GitHub, the HTML representation is unable to render, please try loading this page with nbviewer.org.</b></div><div class=\"sk-container\" hidden><div class=\"sk-item\"><div class=\"sk-estimator sk-toggleable\"><input class=\"sk-toggleable__control sk-hidden--visually\" id=\"sk-estimator-id-1\" type=\"checkbox\" checked><label for=\"sk-estimator-id-1\" class=\"sk-toggleable__label sk-toggleable__label-arrow\">XGBClassifier</label><div class=\"sk-toggleable__content\"><pre>XGBClassifier(base_score=None, booster=None, callbacks=None,\n",
       "              colsample_bylevel=None, colsample_bynode=None,\n",
       "              colsample_bytree=None, device=None, early_stopping_rounds=None,\n",
       "              enable_categorical=False, eval_metric=None, feature_types=None,\n",
       "              gamma=None, grow_policy=None, importance_type=None,\n",
       "              interaction_constraints=None, learning_rate=0.05, max_bin=None,\n",
       "              max_cat_threshold=None, max_cat_to_onehot=None,\n",
       "              max_delta_step=None, max_depth=None, max_leaves=None,\n",
       "              min_child_weight=None, missing=nan, monotone_constraints=None,\n",
       "              multi_strategy=None, n_estimators=None, n_jobs=None,\n",
       "              num_parallel_tree=None, random_state=None, ...)</pre></div></div></div></div></div>"
      ],
      "text/plain": [
       "XGBClassifier(base_score=None, booster=None, callbacks=None,\n",
       "              colsample_bylevel=None, colsample_bynode=None,\n",
       "              colsample_bytree=None, device=None, early_stopping_rounds=None,\n",
       "              enable_categorical=False, eval_metric=None, feature_types=None,\n",
       "              gamma=None, grow_policy=None, importance_type=None,\n",
       "              interaction_constraints=None, learning_rate=0.05, max_bin=None,\n",
       "              max_cat_threshold=None, max_cat_to_onehot=None,\n",
       "              max_delta_step=None, max_depth=None, max_leaves=None,\n",
       "              min_child_weight=None, missing=nan, monotone_constraints=None,\n",
       "              multi_strategy=None, n_estimators=None, n_jobs=None,\n",
       "              num_parallel_tree=None, random_state=None, ...)"
      ]
     },
     "execution_count": 70,
     "metadata": {},
     "output_type": "execute_result"
    }
   ],
   "source": [
    "from sklearn.linear_model import LogisticRegression, SGDClassifier\n",
    "from sklearn.naive_bayes import GaussianNB, MultinomialNB\n",
    "from sklearn.tree import DecisionTreeClassifier\n",
    "from sklearn.neighbors import KNeighborsClassifier\n",
    "from xgboost import XGBClassifier\n",
    "from sklearn.svm import SVC\n",
    "from lightgbm import LGBMClassifier\n",
    "from sklearn.ensemble import RandomForestClassifier, GradientBoostingClassifier\n",
    "model=XGBClassifier(learning_rate=0.05)\n",
    "model.fit(X_train,y_train)"
   ]
  },
  {
   "cell_type": "code",
   "execution_count": 71,
   "id": "7dc0ec41",
   "metadata": {
    "execution": {
     "iopub.execute_input": "2024-12-05T08:49:16.135173Z",
     "iopub.status.busy": "2024-12-05T08:49:16.134201Z",
     "iopub.status.idle": "2024-12-05T08:49:16.147914Z",
     "shell.execute_reply": "2024-12-05T08:49:16.146998Z"
    },
    "papermill": {
     "duration": 0.037444,
     "end_time": "2024-12-05T08:49:16.150563",
     "exception": false,
     "start_time": "2024-12-05T08:49:16.113119",
     "status": "completed"
    },
    "tags": []
   },
   "outputs": [
    {
     "data": {
      "text/plain": [
       "82.51121076233184"
      ]
     },
     "execution_count": 71,
     "metadata": {},
     "output_type": "execute_result"
    }
   ],
   "source": [
    "y_pred=model.predict(X_test)\n",
    "from sklearn.metrics import accuracy_score\n",
    "score=accuracy_score(y_test, y_pred)\n",
    "score*100"
   ]
  },
  {
   "cell_type": "code",
   "execution_count": 72,
   "id": "cd3d028f",
   "metadata": {
    "execution": {
     "iopub.execute_input": "2024-12-05T08:49:16.194657Z",
     "iopub.status.busy": "2024-12-05T08:49:16.194302Z",
     "iopub.status.idle": "2024-12-05T08:49:16.201864Z",
     "shell.execute_reply": "2024-12-05T08:49:16.200603Z"
    },
    "papermill": {
     "duration": 0.03119,
     "end_time": "2024-12-05T08:49:16.203986",
     "exception": false,
     "start_time": "2024-12-05T08:49:16.172796",
     "status": "completed"
    },
    "tags": []
   },
   "outputs": [
    {
     "data": {
      "text/plain": [
       "array([0, 0, 0, 1, 1, 1, 1, 0, 1, 1, 0, 0, 0, 0, 0, 1, 0, 1, 0, 0, 0, 0,\n",
       "       0, 0, 0, 0, 0, 0, 0, 1, 0, 1, 0, 1, 0, 0, 0, 1, 1, 0, 0, 0, 0, 0,\n",
       "       0, 0, 0, 0, 0, 1, 1, 1, 0, 0, 0, 1, 0, 1, 1, 1, 0, 1, 1, 0, 0, 1,\n",
       "       0, 0, 0, 1, 1, 1, 1, 1, 0, 0, 1, 1, 1, 0, 0, 1, 1, 0, 1, 0, 1, 1,\n",
       "       0, 0, 1, 0, 0, 0, 0, 0, 0, 0, 1, 0, 0, 0, 1, 0, 0, 0, 1, 0, 0, 0,\n",
       "       1, 0, 1, 1, 0, 0, 0, 0, 1, 0, 0, 1, 1, 1, 0, 0, 1, 1, 0, 0, 1, 0,\n",
       "       0, 1, 1, 0, 1, 0, 0, 0, 0, 1, 0, 0, 0, 1, 0, 0, 1, 0, 0, 0, 0, 0,\n",
       "       0, 0, 0, 1, 1, 1, 0, 0, 0, 1, 0, 1, 0, 1, 0, 0, 1, 1, 1, 0, 0, 0,\n",
       "       0, 1, 1, 0, 0, 0, 0, 0, 1, 0, 0, 0, 0, 1, 0, 0, 0, 0, 1, 1, 1, 0,\n",
       "       1, 0, 0, 0, 1, 0, 0, 1, 0, 0, 0, 0, 1, 0, 1, 0, 0, 0, 1, 0, 1, 0,\n",
       "       0, 1, 0])"
      ]
     },
     "execution_count": 72,
     "metadata": {},
     "output_type": "execute_result"
    }
   ],
   "source": [
    "y_pred"
   ]
  },
  {
   "cell_type": "code",
   "execution_count": 73,
   "id": "91ed5f47",
   "metadata": {
    "execution": {
     "iopub.execute_input": "2024-12-05T08:49:16.245964Z",
     "iopub.status.busy": "2024-12-05T08:49:16.245112Z",
     "iopub.status.idle": "2024-12-05T08:49:16.255337Z",
     "shell.execute_reply": "2024-12-05T08:49:16.254223Z"
    },
    "papermill": {
     "duration": 0.033859,
     "end_time": "2024-12-05T08:49:16.257729",
     "exception": false,
     "start_time": "2024-12-05T08:49:16.223870",
     "status": "completed"
    },
    "tags": []
   },
   "outputs": [],
   "source": [
    "test_test=pd.read_csv('/kaggle/input/titanic/test.csv')"
   ]
  },
  {
   "cell_type": "code",
   "execution_count": 74,
   "id": "0888d439",
   "metadata": {
    "execution": {
     "iopub.execute_input": "2024-12-05T08:49:16.299768Z",
     "iopub.status.busy": "2024-12-05T08:49:16.299398Z",
     "iopub.status.idle": "2024-12-05T08:49:16.315471Z",
     "shell.execute_reply": "2024-12-05T08:49:16.314462Z"
    },
    "papermill": {
     "duration": 0.039636,
     "end_time": "2024-12-05T08:49:16.317562",
     "exception": false,
     "start_time": "2024-12-05T08:49:16.277926",
     "status": "completed"
    },
    "tags": []
   },
   "outputs": [
    {
     "data": {
      "text/html": [
       "<div>\n",
       "<style scoped>\n",
       "    .dataframe tbody tr th:only-of-type {\n",
       "        vertical-align: middle;\n",
       "    }\n",
       "\n",
       "    .dataframe tbody tr th {\n",
       "        vertical-align: top;\n",
       "    }\n",
       "\n",
       "    .dataframe thead th {\n",
       "        text-align: right;\n",
       "    }\n",
       "</style>\n",
       "<table border=\"1\" class=\"dataframe\">\n",
       "  <thead>\n",
       "    <tr style=\"text-align: right;\">\n",
       "      <th></th>\n",
       "      <th>Pclass</th>\n",
       "      <th>Age</th>\n",
       "      <th>Fare</th>\n",
       "      <th>Q_emb</th>\n",
       "      <th>S_emb</th>\n",
       "      <th>male</th>\n",
       "      <th>female_titles</th>\n",
       "      <th>gender_neutral_titles</th>\n",
       "      <th>male_titles</th>\n",
       "      <th>Family_size</th>\n",
       "      <th>Alone</th>\n",
       "      <th>A</th>\n",
       "      <th>B</th>\n",
       "      <th>C</th>\n",
       "      <th>D</th>\n",
       "      <th>E</th>\n",
       "      <th>F</th>\n",
       "      <th>G</th>\n",
       "      <th>N</th>\n",
       "      <th>T</th>\n",
       "    </tr>\n",
       "  </thead>\n",
       "  <tbody>\n",
       "    <tr>\n",
       "      <th>0</th>\n",
       "      <td>3</td>\n",
       "      <td>22.0</td>\n",
       "      <td>1.981001</td>\n",
       "      <td>0</td>\n",
       "      <td>1</td>\n",
       "      <td>1</td>\n",
       "      <td>0</td>\n",
       "      <td>0</td>\n",
       "      <td>1</td>\n",
       "      <td>2</td>\n",
       "      <td>0</td>\n",
       "      <td>0</td>\n",
       "      <td>0</td>\n",
       "      <td>0</td>\n",
       "      <td>0</td>\n",
       "      <td>0</td>\n",
       "      <td>0</td>\n",
       "      <td>0</td>\n",
       "      <td>1</td>\n",
       "      <td>0</td>\n",
       "    </tr>\n",
       "    <tr>\n",
       "      <th>1</th>\n",
       "      <td>1</td>\n",
       "      <td>38.0</td>\n",
       "      <td>4.266662</td>\n",
       "      <td>0</td>\n",
       "      <td>0</td>\n",
       "      <td>0</td>\n",
       "      <td>1</td>\n",
       "      <td>0</td>\n",
       "      <td>0</td>\n",
       "      <td>2</td>\n",
       "      <td>0</td>\n",
       "      <td>0</td>\n",
       "      <td>0</td>\n",
       "      <td>1</td>\n",
       "      <td>0</td>\n",
       "      <td>0</td>\n",
       "      <td>0</td>\n",
       "      <td>0</td>\n",
       "      <td>0</td>\n",
       "      <td>0</td>\n",
       "    </tr>\n",
       "    <tr>\n",
       "      <th>2</th>\n",
       "      <td>3</td>\n",
       "      <td>26.0</td>\n",
       "      <td>2.070022</td>\n",
       "      <td>0</td>\n",
       "      <td>1</td>\n",
       "      <td>0</td>\n",
       "      <td>1</td>\n",
       "      <td>0</td>\n",
       "      <td>0</td>\n",
       "      <td>1</td>\n",
       "      <td>1</td>\n",
       "      <td>0</td>\n",
       "      <td>0</td>\n",
       "      <td>0</td>\n",
       "      <td>0</td>\n",
       "      <td>0</td>\n",
       "      <td>0</td>\n",
       "      <td>0</td>\n",
       "      <td>1</td>\n",
       "      <td>0</td>\n",
       "    </tr>\n",
       "    <tr>\n",
       "      <th>3</th>\n",
       "      <td>1</td>\n",
       "      <td>35.0</td>\n",
       "      <td>3.972177</td>\n",
       "      <td>0</td>\n",
       "      <td>1</td>\n",
       "      <td>0</td>\n",
       "      <td>1</td>\n",
       "      <td>0</td>\n",
       "      <td>0</td>\n",
       "      <td>2</td>\n",
       "      <td>0</td>\n",
       "      <td>0</td>\n",
       "      <td>0</td>\n",
       "      <td>1</td>\n",
       "      <td>0</td>\n",
       "      <td>0</td>\n",
       "      <td>0</td>\n",
       "      <td>0</td>\n",
       "      <td>0</td>\n",
       "      <td>0</td>\n",
       "    </tr>\n",
       "    <tr>\n",
       "      <th>4</th>\n",
       "      <td>3</td>\n",
       "      <td>35.0</td>\n",
       "      <td>2.085672</td>\n",
       "      <td>0</td>\n",
       "      <td>1</td>\n",
       "      <td>1</td>\n",
       "      <td>0</td>\n",
       "      <td>0</td>\n",
       "      <td>1</td>\n",
       "      <td>1</td>\n",
       "      <td>1</td>\n",
       "      <td>0</td>\n",
       "      <td>0</td>\n",
       "      <td>0</td>\n",
       "      <td>0</td>\n",
       "      <td>0</td>\n",
       "      <td>0</td>\n",
       "      <td>0</td>\n",
       "      <td>1</td>\n",
       "      <td>0</td>\n",
       "    </tr>\n",
       "  </tbody>\n",
       "</table>\n",
       "</div>"
      ],
      "text/plain": [
       "   Pclass   Age      Fare  Q_emb  S_emb  male  female_titles  \\\n",
       "0       3  22.0  1.981001      0      1     1              0   \n",
       "1       1  38.0  4.266662      0      0     0              1   \n",
       "2       3  26.0  2.070022      0      1     0              1   \n",
       "3       1  35.0  3.972177      0      1     0              1   \n",
       "4       3  35.0  2.085672      0      1     1              0   \n",
       "\n",
       "   gender_neutral_titles  male_titles  Family_size  Alone  A  B  C  D  E  F  \\\n",
       "0                      0            1            2      0  0  0  0  0  0  0   \n",
       "1                      0            0            2      0  0  0  1  0  0  0   \n",
       "2                      0            0            1      1  0  0  0  0  0  0   \n",
       "3                      0            0            2      0  0  0  1  0  0  0   \n",
       "4                      0            1            1      1  0  0  0  0  0  0   \n",
       "\n",
       "   G  N  T  \n",
       "0  0  1  0  \n",
       "1  0  0  0  \n",
       "2  0  1  0  \n",
       "3  0  0  0  \n",
       "4  0  1  0  "
      ]
     },
     "execution_count": 74,
     "metadata": {},
     "output_type": "execute_result"
    }
   ],
   "source": [
    "X.head()"
   ]
  },
  {
   "cell_type": "code",
   "execution_count": 75,
   "id": "ebcd3e52",
   "metadata": {
    "execution": {
     "iopub.execute_input": "2024-12-05T08:49:16.360283Z",
     "iopub.status.busy": "2024-12-05T08:49:16.359905Z",
     "iopub.status.idle": "2024-12-05T08:49:16.374656Z",
     "shell.execute_reply": "2024-12-05T08:49:16.372311Z"
    },
    "papermill": {
     "duration": 0.039603,
     "end_time": "2024-12-05T08:49:16.377018",
     "exception": false,
     "start_time": "2024-12-05T08:49:16.337415",
     "status": "completed"
    },
    "tags": []
   },
   "outputs": [
    {
     "data": {
      "text/html": [
       "<div>\n",
       "<style scoped>\n",
       "    .dataframe tbody tr th:only-of-type {\n",
       "        vertical-align: middle;\n",
       "    }\n",
       "\n",
       "    .dataframe tbody tr th {\n",
       "        vertical-align: top;\n",
       "    }\n",
       "\n",
       "    .dataframe thead th {\n",
       "        text-align: right;\n",
       "    }\n",
       "</style>\n",
       "<table border=\"1\" class=\"dataframe\">\n",
       "  <thead>\n",
       "    <tr style=\"text-align: right;\">\n",
       "      <th></th>\n",
       "      <th>PassengerId</th>\n",
       "      <th>Survived</th>\n",
       "    </tr>\n",
       "  </thead>\n",
       "  <tbody>\n",
       "    <tr>\n",
       "      <th>268</th>\n",
       "      <td>1160</td>\n",
       "      <td>0</td>\n",
       "    </tr>\n",
       "    <tr>\n",
       "      <th>27</th>\n",
       "      <td>919</td>\n",
       "      <td>0</td>\n",
       "    </tr>\n",
       "    <tr>\n",
       "      <th>97</th>\n",
       "      <td>989</td>\n",
       "      <td>0</td>\n",
       "    </tr>\n",
       "    <tr>\n",
       "      <th>177</th>\n",
       "      <td>1069</td>\n",
       "      <td>0</td>\n",
       "    </tr>\n",
       "    <tr>\n",
       "      <th>368</th>\n",
       "      <td>1260</td>\n",
       "      <td>1</td>\n",
       "    </tr>\n",
       "    <tr>\n",
       "      <th>357</th>\n",
       "      <td>1249</td>\n",
       "      <td>0</td>\n",
       "    </tr>\n",
       "    <tr>\n",
       "      <th>155</th>\n",
       "      <td>1047</td>\n",
       "      <td>0</td>\n",
       "    </tr>\n",
       "    <tr>\n",
       "      <th>237</th>\n",
       "      <td>1129</td>\n",
       "      <td>0</td>\n",
       "    </tr>\n",
       "    <tr>\n",
       "      <th>120</th>\n",
       "      <td>1012</td>\n",
       "      <td>1</td>\n",
       "    </tr>\n",
       "    <tr>\n",
       "      <th>220</th>\n",
       "      <td>1112</td>\n",
       "      <td>1</td>\n",
       "    </tr>\n",
       "    <tr>\n",
       "      <th>168</th>\n",
       "      <td>1060</td>\n",
       "      <td>1</td>\n",
       "    </tr>\n",
       "    <tr>\n",
       "      <th>410</th>\n",
       "      <td>1302</td>\n",
       "      <td>1</td>\n",
       "    </tr>\n",
       "    <tr>\n",
       "      <th>189</th>\n",
       "      <td>1081</td>\n",
       "      <td>0</td>\n",
       "    </tr>\n",
       "    <tr>\n",
       "      <th>38</th>\n",
       "      <td>930</td>\n",
       "      <td>0</td>\n",
       "    </tr>\n",
       "    <tr>\n",
       "      <th>20</th>\n",
       "      <td>912</td>\n",
       "      <td>0</td>\n",
       "    </tr>\n",
       "    <tr>\n",
       "      <th>246</th>\n",
       "      <td>1138</td>\n",
       "      <td>1</td>\n",
       "    </tr>\n",
       "    <tr>\n",
       "      <th>222</th>\n",
       "      <td>1114</td>\n",
       "      <td>1</td>\n",
       "    </tr>\n",
       "    <tr>\n",
       "      <th>408</th>\n",
       "      <td>1300</td>\n",
       "      <td>1</td>\n",
       "    </tr>\n",
       "    <tr>\n",
       "      <th>253</th>\n",
       "      <td>1145</td>\n",
       "      <td>0</td>\n",
       "    </tr>\n",
       "    <tr>\n",
       "      <th>12</th>\n",
       "      <td>904</td>\n",
       "      <td>1</td>\n",
       "    </tr>\n",
       "  </tbody>\n",
       "</table>\n",
       "</div>"
      ],
      "text/plain": [
       "     PassengerId  Survived\n",
       "268         1160         0\n",
       "27           919         0\n",
       "97           989         0\n",
       "177         1069         0\n",
       "368         1260         1\n",
       "357         1249         0\n",
       "155         1047         0\n",
       "237         1129         0\n",
       "120         1012         1\n",
       "220         1112         1\n",
       "168         1060         1\n",
       "410         1302         1\n",
       "189         1081         0\n",
       "38           930         0\n",
       "20           912         0\n",
       "246         1138         1\n",
       "222         1114         1\n",
       "408         1300         1\n",
       "253         1145         0\n",
       "12           904         1"
      ]
     },
     "execution_count": 75,
     "metadata": {},
     "output_type": "execute_result"
    }
   ],
   "source": [
    "out=model.predict(test_df)\n",
    "output=pd.DataFrame({'PassengerId':test_test.PassengerId, 'Survived': out})\n",
    "output.sample(20)"
   ]
  },
  {
   "cell_type": "code",
   "execution_count": 76,
   "id": "a9431e01",
   "metadata": {
    "execution": {
     "iopub.execute_input": "2024-12-05T08:49:16.422106Z",
     "iopub.status.busy": "2024-12-05T08:49:16.421735Z",
     "iopub.status.idle": "2024-12-05T08:49:16.429530Z",
     "shell.execute_reply": "2024-12-05T08:49:16.428398Z"
    },
    "papermill": {
     "duration": 0.033286,
     "end_time": "2024-12-05T08:49:16.431898",
     "exception": false,
     "start_time": "2024-12-05T08:49:16.398612",
     "status": "completed"
    },
    "tags": []
   },
   "outputs": [
    {
     "data": {
      "text/plain": [
       "array([0, 0, 0, 0, 1, 0, 1, 0, 1, 0, 0, 0, 1, 0, 1, 1, 0, 0, 1, 1, 0, 1,\n",
       "       1, 0, 1, 0, 1, 0, 1, 0, 0, 0, 1, 0, 0, 0, 0, 0, 0, 1, 0, 1, 0, 1,\n",
       "       1, 0, 0, 0, 1, 1, 0, 0, 1, 1, 0, 0, 0, 0, 0, 1, 0, 0, 0, 1, 0, 1,\n",
       "       1, 0, 0, 1, 1, 0, 0, 0, 1, 0, 0, 1, 0, 1, 1, 0, 0, 0, 0, 0, 1, 0,\n",
       "       1, 1, 0, 0, 1, 0, 0, 0, 1, 0, 0, 0, 1, 0, 0, 0, 0, 0, 0, 0, 0, 0,\n",
       "       0, 1, 1, 1, 1, 0, 0, 1, 0, 1, 1, 0, 1, 0, 0, 1, 0, 1, 0, 0, 0, 0,\n",
       "       0, 0, 0, 0, 0, 0, 0, 0, 0, 1, 0, 0, 0, 0, 1, 0, 0, 0, 1, 0, 0, 1,\n",
       "       0, 0, 1, 0, 1, 0, 1, 1, 1, 0, 0, 0, 0, 0, 1, 0, 0, 0, 0, 0, 0, 1,\n",
       "       1, 0, 1, 1, 0, 1, 1, 0, 1, 0, 1, 0, 0, 0, 0, 0, 0, 0, 1, 0, 1, 0,\n",
       "       0, 0, 1, 1, 0, 1, 0, 0, 1, 0, 1, 0, 0, 0, 0, 1, 0, 0, 1, 0, 1, 0,\n",
       "       1, 0, 1, 0, 1, 1, 0, 1, 0, 0, 0, 1, 0, 0, 0, 0, 1, 0, 1, 1, 1, 1,\n",
       "       0, 0, 0, 0, 1, 0, 1, 0, 1, 0, 1, 0, 0, 0, 0, 0, 1, 0, 0, 0, 1, 1,\n",
       "       0, 0, 0, 0, 0, 0, 0, 0, 1, 1, 0, 1, 0, 0, 0, 0, 0, 1, 1, 0, 1, 0,\n",
       "       0, 0, 0, 0, 0, 1, 0, 0, 0, 0, 1, 0, 0, 0, 0, 0, 0, 0, 1, 1, 0, 1,\n",
       "       0, 0, 0, 0, 0, 0, 1, 1, 1, 0, 0, 0, 0, 0, 0, 0, 1, 0, 1, 0, 0, 0,\n",
       "       1, 0, 0, 1, 0, 0, 0, 0, 0, 0, 0, 0, 0, 1, 0, 1, 0, 0, 0, 1, 1, 0,\n",
       "       0, 0, 1, 0, 1, 0, 0, 1, 0, 1, 1, 0, 1, 0, 0, 0, 1, 0, 0, 1, 0, 0,\n",
       "       1, 1, 0, 0, 0, 0, 0, 0, 0, 1, 0, 1, 0, 0, 0, 0, 0, 1, 0, 0, 0, 1,\n",
       "       0, 1, 0, 0, 1, 0, 1, 0, 0, 0, 0, 0, 1, 1, 1, 1, 1, 0, 1, 0, 0, 0])"
      ]
     },
     "execution_count": 76,
     "metadata": {},
     "output_type": "execute_result"
    }
   ],
   "source": [
    "out"
   ]
  },
  {
   "cell_type": "code",
   "execution_count": 77,
   "id": "4488173c",
   "metadata": {
    "execution": {
     "iopub.execute_input": "2024-12-05T08:49:16.474750Z",
     "iopub.status.busy": "2024-12-05T08:49:16.474362Z",
     "iopub.status.idle": "2024-12-05T08:49:16.482027Z",
     "shell.execute_reply": "2024-12-05T08:49:16.480918Z"
    },
    "papermill": {
     "duration": 0.031869,
     "end_time": "2024-12-05T08:49:16.484206",
     "exception": false,
     "start_time": "2024-12-05T08:49:16.452337",
     "status": "completed"
    },
    "tags": []
   },
   "outputs": [],
   "source": [
    "output.to_csv('submission.csv', index=False)"
   ]
  },
  {
   "cell_type": "code",
   "execution_count": null,
   "id": "3e73bd85",
   "metadata": {
    "papermill": {
     "duration": 0.020022,
     "end_time": "2024-12-05T08:49:16.524697",
     "exception": false,
     "start_time": "2024-12-05T08:49:16.504675",
     "status": "completed"
    },
    "tags": []
   },
   "outputs": [],
   "source": []
  }
 ],
 "metadata": {
  "kaggle": {
   "accelerator": "none",
   "dataSources": [
    {
     "databundleVersionId": 26502,
     "sourceId": 3136,
     "sourceType": "competition"
    }
   ],
   "dockerImageVersionId": 30698,
   "isGpuEnabled": false,
   "isInternetEnabled": true,
   "language": "python",
   "sourceType": "notebook"
  },
  "kernelspec": {
   "display_name": "Python 3",
   "language": "python",
   "name": "python3"
  },
  "language_info": {
   "codemirror_mode": {
    "name": "ipython",
    "version": 3
   },
   "file_extension": ".py",
   "mimetype": "text/x-python",
   "name": "python",
   "nbconvert_exporter": "python",
   "pygments_lexer": "ipython3",
   "version": "3.10.13"
  },
  "papermill": {
   "default_parameters": {},
   "duration": 13.233101,
   "end_time": "2024-12-05T08:49:17.267155",
   "environment_variables": {},
   "exception": null,
   "input_path": "__notebook__.ipynb",
   "output_path": "__notebook__.ipynb",
   "parameters": {},
   "start_time": "2024-12-05T08:49:04.034054",
   "version": "2.5.0"
  }
 },
 "nbformat": 4,
 "nbformat_minor": 5
}
